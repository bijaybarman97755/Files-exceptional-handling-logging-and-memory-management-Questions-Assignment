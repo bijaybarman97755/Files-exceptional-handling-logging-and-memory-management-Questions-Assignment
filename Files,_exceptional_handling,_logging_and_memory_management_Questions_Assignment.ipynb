{
  "nbformat": 4,
  "nbformat_minor": 0,
  "metadata": {
    "colab": {
      "provenance": []
    },
    "kernelspec": {
      "name": "python3",
      "display_name": "Python 3"
    },
    "language_info": {
      "name": "python"
    }
  },
  "cells": [
    {
      "cell_type": "markdown",
      "source": [
        "# **Files, exceptional handling, logging and memory management Question Answere**"
      ],
      "metadata": {
        "id": "wvrbz1EUiKVm"
      }
    },
    {
      "cell_type": "markdown",
      "source": [
        "### **Q1. HF What is the difference between interpreted and compiled languages?\n",
        "  . The core difference between compiled and interpreted languages lies in how they translate human-readable code into machine-executable instructions: compiled languages translate the entire program before execution, while interpreted languages translate and execute code line by line during runtime."
      ],
      "metadata": {
        "id": "UGdMVxwPiJ9H"
      }
    },
    {
      "cell_type": "markdown",
      "source": [
        "# **Q2. What is exception handling in Python?**\n",
        "  . In Python, exception handling is a mechanism that allows you to deal with errors that occur during the execution of your program. These errors, known as exceptions, can disrupt the normal flow of your code. Exception handling provides a way to gracefully manage these exceptions, preventing your program from crashing and allowing it to continue running."
      ],
      "metadata": {
        "id": "q4D05k_hjZwl"
      }
    },
    {
      "cell_type": "markdown",
      "source": [
        "# **Q3. What is the purpose of the finally block in exception handling?**\n",
        "  . The purpose of the finally block in exception handling is to ensure that a block of code is always executed, regardless of whether an exception occurred or not. This is particularly useful for cleanup operations."
      ],
      "metadata": {
        "id": "oZGq_Lumj1Y0"
      }
    },
    {
      "cell_type": "markdown",
      "source": [
        "# **Q4. What is logging in Python?**\n",
        "  . In Python, \"logging\" refers to the process of recording events that occur during the execution of a program. The Python standard library provides a powerful logging module that allows developers to implement flexible and effective logging in their applications."
      ],
      "metadata": {
        "id": "vFVn7RhckfZj"
      }
    },
    {
      "cell_type": "markdown",
      "source": [
        "# **Q5. What is the significance of the __del__ method in Python?**\n",
        "  . The __del__ method in Python, often referred to as a \"destructor,\" plays a role in object cleanup, but its significance is nuanced and its use is often discouraged."
      ],
      "metadata": {
        "id": "N9E03Y5UktoT"
      }
    },
    {
      "cell_type": "markdown",
      "source": [
        "# **Q6. What is the difference between import and from ... import in Python?**\n",
        "  . Both import and from ... import are used to bring modules or specific components of modules into your Python code, but they differ in how they make those components accessible."
      ],
      "metadata": {
        "id": "OsuYwg-pk7fS"
      }
    },
    {
      "cell_type": "markdown",
      "source": [
        "# **Q7. How can you handle multiple exceptions in Python?**\n",
        "  . Python offers several ways to handle multiple exceptions within a try...except block, allowing for robust error management."
      ],
      "metadata": {
        "id": "zOlPaEGolMAT"
      }
    },
    {
      "cell_type": "markdown",
      "source": [
        "# **Q8. What is the purpose of the with statement when handling files in Python?\n",
        "  . The with statement in Python is designed to simplify resource management, particularly when working with files. Its primary purpose is to ensure that resources are properly acquired and released, even if exceptions occur."
      ],
      "metadata": {
        "id": "eVQUVsLilYna"
      }
    },
    {
      "cell_type": "markdown",
      "source": [
        "# **Q9. What is the difference between multithreading and multiprocessing?**\n",
        "  . Multithreading and multiprocessing are both techniques for achieving concurrency (doing multiple things at once), but they differ significantly in how they accomplish this."
      ],
      "metadata": {
        "id": "mU-jYCH0loQJ"
      }
    },
    {
      "cell_type": "markdown",
      "source": [
        "# **Q10. What are the advantages of using logging in a program?**\n",
        "  . Using logging in a program provides several significant advantages, enhancing the development, maintenance, and overall robustness of your software."
      ],
      "metadata": {
        "id": "u9VjYi-4l2vS"
      }
    },
    {
      "cell_type": "markdown",
      "source": [
        "# **Q11. What is memory management in Python?**\n",
        "  . Memory management in Python is a crucial aspect of how the language operates, and it's designed to handle the allocation and deallocation of memory automatically, relieving developers from the burden of manual memory management.\n",
        "\n"
      ],
      "metadata": {
        "id": "YVw8SM1AmLiq"
      }
    },
    {
      "cell_type": "markdown",
      "source": [
        "# **Q12. What are the basic steps involved in exception handling in Python?**\n",
        "  . In Python, exception handling involves using try, except, else, and finally blocks to gracefully handle errors and manage program execution."
      ],
      "metadata": {
        "id": "bl8qx0f4mWOZ"
      }
    },
    {
      "cell_type": "markdown",
      "source": [
        "# **Q13. Why is memory management important in Python?**\n",
        "  . Memory management is crucial in Python for several reasons, all contributing to the stability, efficiency, and robustness of your programs.\n",
        "\n"
      ],
      "metadata": {
        "id": "JPN4gR7ynB-A"
      }
    },
    {
      "cell_type": "markdown",
      "source": [
        "# **Q14. What is the role of try and except in exception handling?**\n",
        "  . The try and except blocks are the core components of exception handling in Python, working together to manage errors and prevent program crashes."
      ],
      "metadata": {
        "id": "G26cp2JOnQU5"
      }
    },
    {
      "cell_type": "markdown",
      "source": [
        "# **Q15. How does Python's garbage collection system work?**\n",
        "  . Python's garbage collection system is a combination of reference counting and a cyclic garbage collector."
      ],
      "metadata": {
        "id": "cXCo9Ey4ni7v"
      }
    },
    {
      "cell_type": "markdown",
      "source": [
        "# **Q16. What is the purpose of the else block in exception handling?**\n",
        "  . The else block in exception handling in Python serves a specific purpose: it executes code only when no exceptions have occurred within the corresponding try block."
      ],
      "metadata": {
        "id": "o0wW5ZFYnygv"
      }
    },
    {
      "cell_type": "markdown",
      "source": [
        "# **Q17. What are the common logging levels in Python?**\n",
        "  . Python's logging module provides several standard logging levels, each representing a different severity of events. These levels allow you to control the granularity of your logs and filter messages based on their importance.\n",
        "\n"
      ],
      "metadata": {
        "id": "MBVd-EA7oB93"
      }
    },
    {
      "cell_type": "markdown",
      "source": [
        "# **Q18. What is the difference between os.fork() and multiprocessing in Python?**\n",
        "  . Both os.fork() and the multiprocessing module in Python are used for creating new processes, but they work in fundamentally different ways and have distinct characteristics."
      ],
      "metadata": {
        "id": "h653zeUGoZ42"
      }
    },
    {
      "cell_type": "markdown",
      "source": [
        "# **Q19. What is the importance of closing a file in Python?**\n",
        "  . Closing a file in Python is crucial for several reasons, all of which contribute to the integrity and efficiency of your program."
      ],
      "metadata": {
        "id": "TKIr6CoZopD-"
      }
    },
    {
      "cell_type": "markdown",
      "source": [
        "# **Q20. What is the difference between file.read() and file.readline() in Python?**\n",
        "  . Both file.read() and file.readline() are methods used to read data from a file in Python, but they differ significantly in how they read and return that data."
      ],
      "metadata": {
        "id": "CwAGaFEjow-e"
      }
    },
    {
      "cell_type": "markdown",
      "source": [
        "# **Q21. What is the logging module in Python used for?**\n",
        "  . The logging module in Python is used for creating and managing log messages within your applications. Its primary purpose is to provide a flexible and powerful way to record events, errors, and other information during program execution.\n",
        "\n"
      ],
      "metadata": {
        "id": "lg0oetUEpFF-"
      }
    },
    {
      "cell_type": "markdown",
      "source": [
        "# **Q22. What is the os module in Python used for in file handling?**\n",
        "  . The os module in Python provides a wide range of functions for interacting with the operating system, and it plays a significant role in file handling. While it doesn't directly read or write file contents (that's the job of the built-in open() function), it offers essential tools for managing files and directories."
      ],
      "metadata": {
        "id": "1jf1AKLWpSGl"
      }
    },
    {
      "cell_type": "markdown",
      "source": [
        "# **Q23. What are the challenges associated with memory management in Python?**\n",
        "  . While Python's automatic memory management is generally a strong advantage, it's not without its challenges."
      ],
      "metadata": {
        "id": "5T2aj1GQpc-t"
      }
    },
    {
      "cell_type": "markdown",
      "source": [
        "# **Q24. How do you raise an exception manually in Python?**\n",
        "  . You can raise an exception manually in Python using the raise keyword. This allows you to signal errors or exceptional conditions in your code, even when they aren't automatically triggered by the interpreter."
      ],
      "metadata": {
        "id": "ExM0wobBptLF"
      }
    },
    {
      "cell_type": "markdown",
      "source": [
        "# **Q25.  Why is it important to use multithreading in certain applications?**\n",
        "  . Multithreading is important in certain applications because it allows for concurrent execution of tasks, leading to improved performance, responsiveness, and resource utilization."
      ],
      "metadata": {
        "id": "stL4i0Pup53s"
      }
    },
    {
      "cell_type": "markdown",
      "source": [
        "# **Practical Questions Solutions**"
      ],
      "metadata": {
        "id": "kaCanbXyqKUN"
      }
    },
    {
      "cell_type": "markdown",
      "source": [
        "# **Q1. How can you open a file for writing in Python and write a string to it?**"
      ],
      "metadata": {
        "id": "7ctaLxEiqRL8"
      }
    },
    {
      "cell_type": "code",
      "source": [
        "def write_string_to_file(filename, text_to_write):\n",
        "    \"\"\"\n",
        "    Opens a file for writing and writes a string to it.\n",
        "\n",
        "    Args:\n",
        "        filename: The name of the file to write to.\n",
        "        text_to_write: The string to write to the file.\n",
        "    \"\"\"\n",
        "    try:\n",
        "        with open(filename, 'w') as file:\n",
        "            file.write(text_to_write)\n",
        "        print(f\"Successfully wrote to {filename}\")\n",
        "\n",
        "    except Exception as e:\n",
        "        print(f\"An error occurred: {e}\")\n",
        "\n",
        "write_string_to_file(\"my_file.txt\", \"This is some text to write to the file.\")\n",
        "\n",
        "def append_string_to_file(filename, text_to_append):\n",
        "    \"\"\"\n",
        "    Opens a file for appending and writes a string to it.\n",
        "\n",
        "    Args:\n",
        "        filename: The name of the file to append to.\n",
        "        text_to_append: The string to append to the file.\n",
        "    \"\"\"\n",
        "    try:\n",
        "        with open(filename, 'a') as file:\n",
        "            file.write(text_to_append)\n",
        "        print(f\"Successfully appended to {filename}\")\n",
        "\n",
        "    except Exception as e:\n",
        "        print(f\"An error occurred: {e}\")\n",
        "\n",
        "append_string_to_file(\"my_file.txt\", \"\\nThis is appended text.\")"
      ],
      "metadata": {
        "colab": {
          "base_uri": "https://localhost:8080/"
        },
        "id": "AY7_l6lQqg-s",
        "outputId": "59ca7e13-e3fd-40e5-a66c-ae8886461dae"
      },
      "execution_count": 1,
      "outputs": [
        {
          "output_type": "stream",
          "name": "stdout",
          "text": [
            "Successfully wrote to my_file.txt\n",
            "Successfully appended to my_file.txt\n"
          ]
        }
      ]
    },
    {
      "cell_type": "markdown",
      "source": [
        "# **Q2. Write a Python program to read the contents of a file and print each line.**"
      ],
      "metadata": {
        "id": "RAWTB_Bdq0e0"
      }
    },
    {
      "cell_type": "code",
      "source": [
        "def write_string_to_file(filename, text_to_write):\n",
        "    \"\"\"\n",
        "    Opens a file for writing and writes a string to it.\n",
        "\n",
        "    Args:\n",
        "        filename: The name of the file to write to.\n",
        "        text_to_write: The string to write to the file.\n",
        "    \"\"\"\n",
        "    try:\n",
        "        with open(filename, 'w') as file:\n",
        "            file.write(text_to_write)\n",
        "        print(f\"Successfully wrote to {filename}\")\n",
        "\n",
        "    except Exception as e:\n",
        "        print(f\"An error occurred: {e}\")\n",
        "\n",
        "write_string_to_file(\"my_file.txt\", \"This is some text to write to the file.\")"
      ],
      "metadata": {
        "colab": {
          "base_uri": "https://localhost:8080/"
        },
        "id": "CsJ1hQ4DrHmb",
        "outputId": "e0c399f6-06f2-40dc-f99a-587b0f3dc63e"
      },
      "execution_count": 2,
      "outputs": [
        {
          "output_type": "stream",
          "name": "stdout",
          "text": [
            "Successfully wrote to my_file.txt\n"
          ]
        }
      ]
    },
    {
      "cell_type": "markdown",
      "source": [
        "# **Q3. How would you handle a case where the file doesn't exist while trying to open it for reading?**"
      ],
      "metadata": {
        "id": "s4r7-OvmrOGr"
      }
    },
    {
      "cell_type": "code",
      "source": [
        "def read_file_contents(filename):\n",
        "    \"\"\"\n",
        "    Opens a file for reading and returns its contents.\n",
        "    Handles the case where the file doesn't exist.\n",
        "\n",
        "    Args:\n",
        "        filename: The name of the file to read.\n",
        "\n",
        "    Returns:\n",
        "        The contents of the file as a string, or None if the file doesn't exist.\n",
        "    \"\"\"\n",
        "    try:\n",
        "        with open(filename, 'r') as file:\n",
        "            contents = file.read()\n",
        "            return contents\n",
        "    except FileNotFoundError:\n",
        "        print(f\"Error: File '{filename}' not found.\")\n",
        "        return None\n",
        "\n",
        "file_contents = read_file_contents(\"nonexistent_file.txt\")\n",
        "\n",
        "if file_contents is not None:\n",
        "    print(\"File contents:\")\n",
        "    print(file_contents)"
      ],
      "metadata": {
        "colab": {
          "base_uri": "https://localhost:8080/"
        },
        "id": "fy4F-8acrYFr",
        "outputId": "bbabf5d3-8e10-405b-b457-df92563afef1"
      },
      "execution_count": 3,
      "outputs": [
        {
          "output_type": "stream",
          "name": "stdout",
          "text": [
            "Error: File 'nonexistent_file.txt' not found.\n"
          ]
        }
      ]
    },
    {
      "cell_type": "markdown",
      "source": [
        "# **Q4. Write a Python script that reads from one file and writes its content to another file.**"
      ],
      "metadata": {
        "id": "cn3uRW-TrnbL"
      }
    },
    {
      "cell_type": "code",
      "source": [
        "def copy_file(source_filename, destination_filename):\n",
        "    \"\"\"\n",
        "    Reads the content of one file and writes it to another file.\n",
        "\n",
        "    Args:\n",
        "        source_filename: The name of the source file.\n",
        "        destination_filename: The name of the destination file.\n",
        "    \"\"\"\n",
        "    try:\n",
        "        with open(source_filename, 'r') as source_file, open(destination_filename, 'w') as destination_file:\n",
        "            for line in source_file:\n",
        "                destination_file.write(line)\n",
        "        print(f\"Successfully copied '{source_filename}' to '{destination_filename}'.\")\n",
        "\n",
        "    except FileNotFoundError:\n",
        "        print(f\"Error: Source file '{source_filename}' not found.\")\n",
        "    except Exception as e:\n",
        "        print(f\"An error occurred: {e}\")\n",
        "\n",
        "source_file = \"source.txt\"\n",
        "destination_file = \"destination.txt\"\n",
        "\n",
        "try:\n",
        "    with open(source_file, 'w') as f:\n",
        "        f.write(\"This is the content of the source file.\\n\")\n",
        "        f.write(\"Another line of text.\\n\")\n",
        "except Exception as e:\n",
        "    print(f\"Error creating example source file: {e}\")\n",
        "\n",
        "copy_file(source_file, destination_file)\n",
        "\n",
        "try:\n",
        "    with open(destination_file, 'r') as verify_file:\n",
        "        print(\"\\nDestination file contents:\")\n",
        "        print(verify_file.read())\n",
        "except Exception as e:\n",
        "    print(f\"Error verifying destination file: {e}\")"
      ],
      "metadata": {
        "colab": {
          "base_uri": "https://localhost:8080/"
        },
        "id": "T9hEAUuqryv6",
        "outputId": "6507eeac-d438-4292-eefb-a3d43ece2030"
      },
      "execution_count": 4,
      "outputs": [
        {
          "output_type": "stream",
          "name": "stdout",
          "text": [
            "Successfully copied 'source.txt' to 'destination.txt'.\n",
            "\n",
            "Destination file contents:\n",
            "This is the content of the source file.\n",
            "Another line of text.\n",
            "\n"
          ]
        }
      ]
    },
    {
      "cell_type": "markdown",
      "source": [
        "# **Q5. How would you catch and handle division by zero error in Python?**"
      ],
      "metadata": {
        "id": "Ro6n2BM2r-cj"
      }
    },
    {
      "cell_type": "code",
      "source": [
        "def divide_numbers(numerator, denominator):\n",
        "    \"\"\"\n",
        "    Divides two numbers and handles division by zero.\n",
        "\n",
        "    Args:\n",
        "        numerator: The numerator.\n",
        "        denominator: The denominator.\n",
        "\n",
        "    Returns:\n",
        "        The result of the division, or None if division by zero occurs.\n",
        "    \"\"\"\n",
        "    try:\n",
        "        result = numerator / denominator\n",
        "        return result\n",
        "    except ZeroDivisionError:\n",
        "        print(\"Error: Division by zero is not allowed.\")\n",
        "        return None\n",
        "\n",
        "numerator = 10\n",
        "denominator = 0\n",
        "\n",
        "result = divide_numbers(numerator, denominator)\n",
        "\n",
        "if result is not None:\n",
        "    print(f\"Result: {result}\")"
      ],
      "metadata": {
        "colab": {
          "base_uri": "https://localhost:8080/"
        },
        "id": "OX_Hpsnsr97y",
        "outputId": "4d74cd4e-a37d-48bf-f7be-72d7f35e55ae"
      },
      "execution_count": 5,
      "outputs": [
        {
          "output_type": "stream",
          "name": "stdout",
          "text": [
            "Error: Division by zero is not allowed.\n"
          ]
        }
      ]
    },
    {
      "cell_type": "markdown",
      "source": [
        "# **Q6. Write a Python program that logs an error message to a log file when a division by zero exception occurs.**"
      ],
      "metadata": {
        "id": "P2qsS0Y-sUIy"
      }
    },
    {
      "cell_type": "code",
      "source": [
        "import logging\n",
        "\n",
        "def divide_numbers(numerator, denominator, log_file=\"division_errors.log\"):\n",
        "    \"\"\"\n",
        "    Divides two numbers and logs an error message when division by zero occurs.\n",
        "\n",
        "    Args:\n",
        "        numerator: The numerator.\n",
        "        denominator: The denominator.\n",
        "        log_file: The name of the log file.\n",
        "    \"\"\"\n",
        "\n",
        "    logging.basicConfig(filename=log_file, level=logging.ERROR,\n",
        "                        format='%(asctime)s - %(levelname)s - %(message)s')\n",
        "\n",
        "    try:\n",
        "        result = numerator / denominator\n",
        "        return result\n",
        "    except ZeroDivisionError:\n",
        "        error_message = f\"Division by zero occurred: {numerator} / {denominator}\"\n",
        "        logging.error(error_message)\n",
        "        print(\"Error: Division by zero is not allowed. Check the log file for details.\")\n",
        "        return None\n",
        "\n",
        "numerator = 10\n",
        "denominator = 0\n",
        "\n",
        "result = divide_numbers(numerator, denominator)\n",
        "\n",
        "if result is not None:\n",
        "    print(f\"Result: {result}\")\n",
        "\n",
        "numerator2 = 20\n",
        "denominator2 = 0\n",
        "result2 = divide_numbers(numerator2, denominator2, \"other_errors.log\")\n",
        "\n",
        "if result2 is not None:\n",
        "    print(f\"Result: {result2}\")"
      ],
      "metadata": {
        "colab": {
          "base_uri": "https://localhost:8080/"
        },
        "id": "R09fnNWIseea",
        "outputId": "19954ab7-f2be-419b-8410-c9ea3a406eba"
      },
      "execution_count": 6,
      "outputs": [
        {
          "output_type": "stream",
          "name": "stderr",
          "text": [
            "ERROR:root:Division by zero occurred: 10 / 0\n",
            "ERROR:root:Division by zero occurred: 20 / 0\n"
          ]
        },
        {
          "output_type": "stream",
          "name": "stdout",
          "text": [
            "Error: Division by zero is not allowed. Check the log file for details.\n",
            "Error: Division by zero is not allowed. Check the log file for details.\n"
          ]
        }
      ]
    },
    {
      "cell_type": "markdown",
      "source": [
        "# **Q7. How do you log information at different levels (INFO, ERROR, WARNING) in Python using the logging module?**"
      ],
      "metadata": {
        "id": "xT0hhSqYsnQq"
      }
    },
    {
      "cell_type": "code",
      "source": [
        "import logging\n",
        "\n",
        "def configure_logging(log_file=\"my_app.log\"):\n",
        "    \"\"\"Configures the logging system.\"\"\"\n",
        "    logging.basicConfig(filename=log_file,\n",
        "                        level=logging.DEBUG,\n",
        "                        format='%(asctime)s - %(levelname)s - %(message)s')\n",
        "\n",
        "def perform_operations():\n",
        "    \"\"\"Performs some operations and logs information at different levels.\"\"\"\n",
        "    logging.debug(\"This is a debug message (for development).\")\n",
        "    logging.info(\"Application started successfully.\")\n",
        "\n",
        "    try:\n",
        "        result = 10 / 0\n",
        "    except ZeroDivisionError:\n",
        "        logging.error(\"Division by zero occurred.\")\n",
        "        logging.warning(\"A potential issue was detected.\")\n",
        "\n",
        "    logging.critical(\"Application is about to terminate due to a critical error.\")\n",
        "\n",
        "def main():\n",
        "    configure_logging()\n",
        "    perform_operations()\n",
        "\n",
        "if __name__ == \"__main__\":\n",
        "    main()"
      ],
      "metadata": {
        "colab": {
          "base_uri": "https://localhost:8080/"
        },
        "id": "cuwzFlsnsunT",
        "outputId": "b0566765-76f6-44db-ba27-de58721fbbc7"
      },
      "execution_count": 7,
      "outputs": [
        {
          "output_type": "stream",
          "name": "stderr",
          "text": [
            "ERROR:root:Division by zero occurred.\n",
            "WARNING:root:A potential issue was detected.\n",
            "CRITICAL:root:Application is about to terminate due to a critical error.\n"
          ]
        }
      ]
    },
    {
      "cell_type": "markdown",
      "source": [
        "# **Q8. Write a program to handle a file opening error using exception handling.**"
      ],
      "metadata": {
        "id": "56yRvIxUs3gZ"
      }
    },
    {
      "cell_type": "code",
      "source": [
        "def open_file_safely(filename, mode='r'):\n",
        "    \"\"\"\n",
        "    Opens a file and handles potential FileNotFoundError and PermissionError.\n",
        "\n",
        "    Args:\n",
        "        filename: The name of the file to open.\n",
        "        mode: The mode in which to open the file (e.g., 'r', 'w', 'a').\n",
        "    \"\"\"\n",
        "    try:\n",
        "        file = open(filename, mode)\n",
        "        print(f\"File '{filename}' opened successfully in '{mode}' mode.\")\n",
        "        file.close()\n",
        "\n",
        "    except FileNotFoundError:\n",
        "        print(f\"Error: File '{filename}' not found.\")\n",
        "    except PermissionError:\n",
        "        print(f\"Error: Permission denied to open file '{filename}'.\")\n",
        "    except Exception as e:\n",
        "        print(f\"An unexpected error occurred: {e}\")\n",
        "\n",
        "open_file_safely(\"my_file.txt\", 'r')\n",
        "open_file_safely(\"/root/secret_file.txt\", 'r')\n",
        "open_file_safely(\"existing_file.txt\", 'w')\n",
        "\n",
        "try:\n",
        "    with open(\"existing_file.txt\", 'w') as f:\n",
        "        f.write(\"This is a dummy file.\")\n",
        "except Exception as e:\n",
        "    print(f\"Error creating dummy file: {e}\")"
      ],
      "metadata": {
        "colab": {
          "base_uri": "https://localhost:8080/"
        },
        "id": "zZp7vQ25s-lx",
        "outputId": "e0caf641-109c-4e96-9f05-9b817c0cb921"
      },
      "execution_count": 8,
      "outputs": [
        {
          "output_type": "stream",
          "name": "stdout",
          "text": [
            "File 'my_file.txt' opened successfully in 'r' mode.\n",
            "Error: File '/root/secret_file.txt' not found.\n",
            "File 'existing_file.txt' opened successfully in 'w' mode.\n"
          ]
        }
      ]
    },
    {
      "cell_type": "markdown",
      "source": [
        "# **Q9. How can you read a file line by line and store its content in a list in Python?**"
      ],
      "metadata": {
        "id": "h6rdx_n2tQQZ"
      }
    },
    {
      "cell_type": "code",
      "source": [
        "def read_file_lines_to_list(filename):\n",
        "    \"\"\"Reads a file line by line and returns a list of lines.\"\"\"\n",
        "    try:\n",
        "        with open(filename, 'r') as file:\n",
        "            lines = [line.rstrip('\\n') for line in file]\n",
        "        return lines\n",
        "    except FileNotFoundError:\n",
        "        print(f\"Error: File '{filename}' not found.\")\n",
        "        return []\n",
        "\n",
        "file_lines = read_file_lines_to_list(\"my_file.txt\")\n",
        "\n",
        "if file_lines:\n",
        "    for line in file_lines:\n",
        "        print(line)"
      ],
      "metadata": {
        "colab": {
          "base_uri": "https://localhost:8080/"
        },
        "id": "UZQ0k5F7tYaR",
        "outputId": "d93b1398-3f08-4e7a-b00e-de420cc1847c"
      },
      "execution_count": 9,
      "outputs": [
        {
          "output_type": "stream",
          "name": "stdout",
          "text": [
            "This is some text to write to the file.\n"
          ]
        }
      ]
    },
    {
      "cell_type": "markdown",
      "source": [
        "# **Q10. How can you append data to an existing file in Python?**"
      ],
      "metadata": {
        "id": "cbOzp3s1tfOQ"
      }
    },
    {
      "cell_type": "code",
      "source": [
        "def append_to_file(filename, data_to_append):\n",
        "    \"\"\"Appends data to an existing file.\n",
        "\n",
        "    Args:\n",
        "        filename: The name of the file to append to.\n",
        "        data_to_append: The data to append to the file.\n",
        "    \"\"\"\n",
        "    try:\n",
        "        with open(filename, 'a') as file:\n",
        "            file.write(data_to_append)\n",
        "        print(f\"Successfully appended data to '{filename}'.\")\n",
        "    except FileNotFoundError:\n",
        "        print(f\"Error: File '{filename}' not found.\")\n",
        "    except Exception as e:\n",
        "        print(f\"An error occurred: {e}\")\n",
        "\n",
        "filename = \"my_file.txt\"\n",
        "\n",
        "try:\n",
        "    with open(filename, 'w') as f:\n",
        "        f.write(\"Initial content.\\n\")\n",
        "except Exception as e:\n",
        "    print(f\"Error creating initial file: {e}\")\n",
        "\n",
        "append_to_file(filename, \"This is the appended data.\\n\")\n",
        "append_to_file(filename, \"Another line appended.\\n\")\n",
        "\n",
        "try:\n",
        "    with open(filename, 'r') as f:\n",
        "        print(\"File content after appending:\")\n",
        "        print(f.read())\n",
        "except Exception as e:\n",
        "    print(f\"Error reading file after append: {e}\")"
      ],
      "metadata": {
        "colab": {
          "base_uri": "https://localhost:8080/"
        },
        "id": "bKfp7REstmRa",
        "outputId": "c929faeb-3ffb-4d43-f96c-4718fbc0f787"
      },
      "execution_count": 10,
      "outputs": [
        {
          "output_type": "stream",
          "name": "stdout",
          "text": [
            "Successfully appended data to 'my_file.txt'.\n",
            "Successfully appended data to 'my_file.txt'.\n",
            "File content after appending:\n",
            "Initial content.\n",
            "This is the appended data.\n",
            "Another line appended.\n",
            "\n"
          ]
        }
      ]
    },
    {
      "cell_type": "markdown",
      "source": [
        "# **Q11. Write a Python program that uses a try-except block to handle an error when attempting to access a dictionary key that doesn't exist.**"
      ],
      "metadata": {
        "id": "LkM5NMvjtupq"
      }
    },
    {
      "cell_type": "code",
      "source": [
        "def access_dictionary_key(my_dict, key):\n",
        "    \"\"\"\n",
        "    Attempts to access a dictionary key and handles the KeyError exception.\n",
        "\n",
        "    Args:\n",
        "        my_dict: The dictionary to access.\n",
        "        key: The key to access.\n",
        "    \"\"\"\n",
        "    try:\n",
        "        value = my_dict[key]\n",
        "        print(f\"Value for key '{key}': {value}\")\n",
        "    except KeyError:\n",
        "        print(f\"Error: Key '{key}' not found in the dictionary.\")\n",
        "\n",
        "my_dict = {\"name\": \"Alice\", \"age\": 30, \"city\": \"New York\"}\n",
        "\n",
        "access_dictionary_key(my_dict, \"age\")\n",
        "access_dictionary_key(my_dict, \"job\")"
      ],
      "metadata": {
        "colab": {
          "base_uri": "https://localhost:8080/"
        },
        "id": "VsF8oookt2JB",
        "outputId": "9748ca62-fe80-4444-8d06-3e4e4e3277c8"
      },
      "execution_count": 11,
      "outputs": [
        {
          "output_type": "stream",
          "name": "stdout",
          "text": [
            "Value for key 'age': 30\n",
            "Error: Key 'job' not found in the dictionary.\n"
          ]
        }
      ]
    },
    {
      "cell_type": "markdown",
      "source": [
        "# **Q12. Write a program that demonstrates using multiple except blocks to handle different types of exceptions.**"
      ],
      "metadata": {
        "id": "y5tyLHcguB_g"
      }
    },
    {
      "cell_type": "code",
      "source": [
        "def process_data(data):\n",
        "    \"\"\"\n",
        "    Processes data and handles different types of exceptions.\n",
        "\n",
        "    Args:\n",
        "        data: The data to process.\n",
        "    \"\"\"\n",
        "    try:\n",
        "        value1 = int(data[0])\n",
        "        value2 = int(data[1])\n",
        "        result = value1 / value2\n",
        "        print(f\"Result: {result}\")\n",
        "\n",
        "    except TypeError:\n",
        "        print(\"Error: Invalid data type. Expected a list or tuple of numbers.\")\n",
        "    except ValueError:\n",
        "        print(\"Error: Invalid number format. Please provide valid integers.\")\n",
        "    except ZeroDivisionError:\n",
        "        print(\"Error: Division by zero is not allowed.\")\n",
        "    except IndexError:\n",
        "        print(\"Error: Not enough values in the data provided.\")\n",
        "    except Exception as e:\n",
        "        print(f\"An unexpected error occurred: {e}\")\n",
        "\n",
        "process_data([\"10\", \"2\"])\n",
        "process_data([\"10\", \"0\"])\n",
        "process_data([\"10\", \"abc\"])\n",
        "process_data((\"10\", 2))\n",
        "process_data(10)\n",
        "process_data([\"10\"])\n",
        "process_data([10,2,3])"
      ],
      "metadata": {
        "colab": {
          "base_uri": "https://localhost:8080/"
        },
        "id": "h16WaM_kuJ5w",
        "outputId": "06fd8a53-7fd0-4a42-c93c-2989f854dea8"
      },
      "execution_count": 12,
      "outputs": [
        {
          "output_type": "stream",
          "name": "stdout",
          "text": [
            "Result: 5.0\n",
            "Error: Division by zero is not allowed.\n",
            "Error: Invalid number format. Please provide valid integers.\n",
            "Result: 5.0\n",
            "Error: Invalid data type. Expected a list or tuple of numbers.\n",
            "Error: Not enough values in the data provided.\n",
            "Result: 5.0\n"
          ]
        }
      ]
    },
    {
      "cell_type": "markdown",
      "source": [
        "# **Q13. How would you check if a file exists before attempting to read it in Python?**"
      ],
      "metadata": {
        "id": "U_yn0O2duWpH"
      }
    },
    {
      "cell_type": "code",
      "source": [
        "import os.path\n",
        "\n",
        "def read_file_if_exists(filename):\n",
        "    \"\"\"\n",
        "    Reads a file if it exists, otherwise prints an error message.\n",
        "\n",
        "    Args:\n",
        "        filename: The name of the file to read.\n",
        "    \"\"\"\n",
        "    if os.path.exists(filename):\n",
        "        try:\n",
        "            with open(filename, 'r') as file:\n",
        "                contents = file.read()\n",
        "                print(f\"Contents of '{filename}':\\n{contents}\")\n",
        "        except Exception as e:\n",
        "            print(f\"An error occurred while reading '{filename}': {e}\")\n",
        "    else:\n",
        "        print(f\"Error: File '{filename}' does not exist.\")\n",
        "\n",
        "read_file_if_exists(\"existing_file.txt\")\n",
        "read_file_if_exists(\"nonexistent_file.txt\")\n",
        "\n",
        "try:\n",
        "    with open(\"existing_file.txt\", \"w\") as f:\n",
        "        f.write(\"This is an existing file.\")\n",
        "except Exception as e:\n",
        "    print(f\"Error creating example file: {e}\")"
      ],
      "metadata": {
        "colab": {
          "base_uri": "https://localhost:8080/"
        },
        "id": "BGQBlyqmugh5",
        "outputId": "a2acc4a0-91d4-4eaa-f34f-51e083c328aa"
      },
      "execution_count": 13,
      "outputs": [
        {
          "output_type": "stream",
          "name": "stdout",
          "text": [
            "Contents of 'existing_file.txt':\n",
            "This is a dummy file.\n",
            "Error: File 'nonexistent_file.txt' does not exist.\n"
          ]
        }
      ]
    },
    {
      "cell_type": "markdown",
      "source": [
        "# **Q14. Write a program that uses the logging module to log both informational and error messages.**"
      ],
      "metadata": {
        "id": "FlZe34IRusn_"
      }
    },
    {
      "cell_type": "code",
      "source": [
        "import logging\n",
        "\n",
        "def configure_logging(log_file=\"my_app.log\"):\n",
        "    \"\"\"Configures the logging system.\"\"\"\n",
        "    logging.basicConfig(filename=log_file,\n",
        "                        level=logging.INFO,\n",
        "                        format='%(asctime)s - %(levelname)s - %(message)s')\n",
        "\n",
        "def perform_operations():\n",
        "    \"\"\"Performs some operations and logs information and errors.\"\"\"\n",
        "    logging.info(\"Starting data processing...\")\n",
        "\n",
        "    try:\n",
        "        data = [10, 0, \"abc\"]\n",
        "        result1 = data[0] / data[1]\n",
        "        result2 = int(data[2])\n",
        "        print(f\"Results: {result1}, {result2}\")\n",
        "\n",
        "    except ZeroDivisionError:\n",
        "        logging.error(\"Division by zero error occurred.\")\n",
        "    except ValueError:\n",
        "        logging.error(\"Invalid data type for conversion to integer.\")\n",
        "    except IndexError:\n",
        "        logging.error(\"Index out of range.\")\n",
        "    except Exception as e:\n",
        "        logging.error(f\"An unexpected error occurred: {e}\")\n",
        "\n",
        "    logging.info(\"Data processing completed.\")\n",
        "\n",
        "def main():\n",
        "    configure_logging()\n",
        "    perform_operations()\n",
        "\n",
        "if __name__ == \"__main__\":\n",
        "    main()"
      ],
      "metadata": {
        "colab": {
          "base_uri": "https://localhost:8080/"
        },
        "id": "PHAMdR4vuy2Q",
        "outputId": "0375644d-95fb-42ae-d5cf-1e491d482e72"
      },
      "execution_count": 14,
      "outputs": [
        {
          "output_type": "stream",
          "name": "stderr",
          "text": [
            "ERROR:root:Division by zero error occurred.\n"
          ]
        }
      ]
    },
    {
      "cell_type": "markdown",
      "source": [
        "# **Q15. Write a Python program that prints the content of a file and handles the case when the file is empty.**"
      ],
      "metadata": {
        "id": "dJlKPcGlu8Cn"
      }
    },
    {
      "cell_type": "code",
      "source": [
        "def print_file_contents(filename):\n",
        "    \"\"\"\n",
        "    Prints the content of a file and handles the case when the file is empty.\n",
        "\n",
        "    Args:\n",
        "        filename: The name of the file to read.\n",
        "    \"\"\"\n",
        "    try:\n",
        "        with open(filename, 'r') as file:\n",
        "            contents = file.read()\n",
        "            if not contents:\n",
        "                print(f\"File '{filename}' is empty.\")\n",
        "            else:\n",
        "                print(f\"Contents of '{filename}':\\n{contents}\")\n",
        "    except FileNotFoundError:\n",
        "        print(f\"Error: File '{filename}' not found.\")\n",
        "    except Exception as e:\n",
        "        print(f\"An unexpected error occurred: {e}\")\n",
        "\n",
        "try:\n",
        "    with open(\"empty_file.txt\", \"w\") as empty_file:\n",
        "        pass\n",
        "except Exception as e:\n",
        "    print(f\"Error creating empty file: {e}\")\n",
        "\n",
        "try:\n",
        "    with open(\"non_empty_file.txt\", \"w\") as non_empty_file:\n",
        "        non_empty_file.write(\"This file has some content.\\nAnother line.\")\n",
        "except Exception as e:\n",
        "    print(f\"Error creating non-empty file: {e}\")\n",
        "\n",
        "print_file_contents(\"empty_file.txt\")\n",
        "print_file_contents(\"non_empty_file.txt\")\n",
        "print_file_contents(\"nonexistent_file.txt\")"
      ],
      "metadata": {
        "colab": {
          "base_uri": "https://localhost:8080/"
        },
        "id": "QwKJFjeCvECn",
        "outputId": "78a67cd6-25f6-4274-8961-261557001dd1"
      },
      "execution_count": 15,
      "outputs": [
        {
          "output_type": "stream",
          "name": "stdout",
          "text": [
            "File 'empty_file.txt' is empty.\n",
            "Contents of 'non_empty_file.txt':\n",
            "This file has some content.\n",
            "Another line.\n",
            "Error: File 'nonexistent_file.txt' not found.\n"
          ]
        }
      ]
    },
    {
      "cell_type": "markdown",
      "source": [
        "# **Q17. Write a Python program to create and write a list of numbers to a file, one number per line.**"
      ],
      "metadata": {
        "id": "vGe_1KRVv0vG"
      }
    },
    {
      "cell_type": "code",
      "source": [
        "def write_numbers_to_file(filename, numbers):\n",
        "    \"\"\"\n",
        "    Writes a list of numbers to a file, one number per line.\n",
        "\n",
        "    Args:\n",
        "        filename: The name of the file to write to.\n",
        "        numbers: A list of numbers.\n",
        "    \"\"\"\n",
        "    try:\n",
        "        with open(filename, 'w') as file:\n",
        "            for number in numbers:\n",
        "                file.write(str(number) + '\\n')\n",
        "        print(f\"Successfully wrote numbers to '{filename}'.\")\n",
        "    except Exception as e:\n",
        "        print(f\"An error occurred: {e}\")\n",
        "\n",
        "numbers_list = [10, 25, 3, 42, 17, 8]\n",
        "output_filename = \"numbers.txt\"\n",
        "\n",
        "write_numbers_to_file(output_filename, numbers_list)\n",
        "\n",
        "try:\n",
        "    with open(output_filename, 'r') as verify_file:\n",
        "        print(\"\\nFile contents:\")\n",
        "        print(verify_file.read())\n",
        "except Exception as e:\n",
        "    print(f\"Error verifying file contents: {e}\")"
      ],
      "metadata": {
        "colab": {
          "base_uri": "https://localhost:8080/"
        },
        "id": "foQSt6SLv9gG",
        "outputId": "149a2bcc-f8f2-46da-b2ad-7ca9c8c15e22"
      },
      "execution_count": 18,
      "outputs": [
        {
          "output_type": "stream",
          "name": "stdout",
          "text": [
            "Successfully wrote numbers to 'numbers.txt'.\n",
            "\n",
            "File contents:\n",
            "10\n",
            "25\n",
            "3\n",
            "42\n",
            "17\n",
            "8\n",
            "\n"
          ]
        }
      ]
    },
    {
      "cell_type": "markdown",
      "source": [
        "# **Q18. How would you implement a basic logging setup that logs to a file with rotation after 1MB?**"
      ],
      "metadata": {
        "id": "GBgghX2owE62"
      }
    },
    {
      "cell_type": "code",
      "source": [
        "import logging\n",
        "import logging.handlers\n",
        "\n",
        "def setup_rotating_logger(log_file=\"my_app.log\", max_bytes=1024 * 1024, backup_count=5):\n",
        "    \"\"\"\n",
        "    Sets up a rotating file logger.\n",
        "\n",
        "    Args:\n",
        "        log_file: The name of the log file.\n",
        "        max_bytes: The maximum size of the log file in bytes (default: 1MB).\n",
        "        backup_count: The number of backup log files to keep.\n",
        "    \"\"\"\n",
        "    logger = logging.getLogger(__name__)\n",
        "    logger.setLevel(logging.INFO)\n",
        "\n",
        "    handler = logging.handlers.RotatingFileHandler(\n",
        "        log_file,\n",
        "        maxBytes=max_bytes,\n",
        "        backupCount=backup_count\n",
        "    )\n",
        "\n",
        "    formatter = logging.Formatter('%(asctime)s - %(levelname)s - %(message)s')\n",
        "    handler.setFormatter(formatter)\n",
        "\n",
        "    logger.addHandler(handler)\n",
        "\n",
        "    return logger\n",
        "\n",
        "logger = setup_rotating_logger()\n",
        "\n",
        "logger.info(\"Application started.\")\n",
        "for i in range(1000):\n",
        "    logger.info(f\"Processing item {i}\")\n",
        "logger.error(\"An error occurred.\")\n",
        "logger.warning(\"A warning message.\")\n",
        "logger.critical(\"A critical message.\")\n",
        "\n",
        "logger.info(\"Application finished.\")"
      ],
      "metadata": {
        "colab": {
          "base_uri": "https://localhost:8080/"
        },
        "id": "Ai5ceHPiwOpA",
        "outputId": "b9b83294-40ca-4de3-ac59-aa7a44c715c7"
      },
      "execution_count": 19,
      "outputs": [
        {
          "output_type": "stream",
          "name": "stderr",
          "text": [
            "INFO:__main__:Application started.\n",
            "INFO:__main__:Processing item 0\n",
            "INFO:__main__:Processing item 1\n",
            "INFO:__main__:Processing item 2\n",
            "INFO:__main__:Processing item 3\n",
            "INFO:__main__:Processing item 4\n",
            "INFO:__main__:Processing item 5\n",
            "INFO:__main__:Processing item 6\n",
            "INFO:__main__:Processing item 7\n",
            "INFO:__main__:Processing item 8\n",
            "INFO:__main__:Processing item 9\n",
            "INFO:__main__:Processing item 10\n",
            "INFO:__main__:Processing item 11\n",
            "INFO:__main__:Processing item 12\n",
            "INFO:__main__:Processing item 13\n",
            "INFO:__main__:Processing item 14\n",
            "INFO:__main__:Processing item 15\n",
            "INFO:__main__:Processing item 16\n",
            "INFO:__main__:Processing item 17\n",
            "INFO:__main__:Processing item 18\n",
            "INFO:__main__:Processing item 19\n",
            "INFO:__main__:Processing item 20\n",
            "INFO:__main__:Processing item 21\n",
            "INFO:__main__:Processing item 22\n",
            "INFO:__main__:Processing item 23\n",
            "INFO:__main__:Processing item 24\n",
            "INFO:__main__:Processing item 25\n",
            "INFO:__main__:Processing item 26\n",
            "INFO:__main__:Processing item 27\n",
            "INFO:__main__:Processing item 28\n",
            "INFO:__main__:Processing item 29\n",
            "INFO:__main__:Processing item 30\n",
            "INFO:__main__:Processing item 31\n",
            "INFO:__main__:Processing item 32\n",
            "INFO:__main__:Processing item 33\n",
            "INFO:__main__:Processing item 34\n",
            "INFO:__main__:Processing item 35\n",
            "INFO:__main__:Processing item 36\n",
            "INFO:__main__:Processing item 37\n",
            "INFO:__main__:Processing item 38\n",
            "INFO:__main__:Processing item 39\n",
            "INFO:__main__:Processing item 40\n",
            "INFO:__main__:Processing item 41\n",
            "INFO:__main__:Processing item 42\n",
            "INFO:__main__:Processing item 43\n",
            "INFO:__main__:Processing item 44\n",
            "INFO:__main__:Processing item 45\n",
            "INFO:__main__:Processing item 46\n",
            "INFO:__main__:Processing item 47\n",
            "INFO:__main__:Processing item 48\n",
            "INFO:__main__:Processing item 49\n",
            "INFO:__main__:Processing item 50\n",
            "INFO:__main__:Processing item 51\n",
            "INFO:__main__:Processing item 52\n",
            "INFO:__main__:Processing item 53\n",
            "INFO:__main__:Processing item 54\n",
            "INFO:__main__:Processing item 55\n",
            "INFO:__main__:Processing item 56\n",
            "INFO:__main__:Processing item 57\n",
            "INFO:__main__:Processing item 58\n",
            "INFO:__main__:Processing item 59\n",
            "INFO:__main__:Processing item 60\n",
            "INFO:__main__:Processing item 61\n",
            "INFO:__main__:Processing item 62\n",
            "INFO:__main__:Processing item 63\n",
            "INFO:__main__:Processing item 64\n",
            "INFO:__main__:Processing item 65\n",
            "INFO:__main__:Processing item 66\n",
            "INFO:__main__:Processing item 67\n",
            "INFO:__main__:Processing item 68\n",
            "INFO:__main__:Processing item 69\n",
            "INFO:__main__:Processing item 70\n",
            "INFO:__main__:Processing item 71\n",
            "INFO:__main__:Processing item 72\n",
            "INFO:__main__:Processing item 73\n",
            "INFO:__main__:Processing item 74\n",
            "INFO:__main__:Processing item 75\n",
            "INFO:__main__:Processing item 76\n",
            "INFO:__main__:Processing item 77\n",
            "INFO:__main__:Processing item 78\n",
            "INFO:__main__:Processing item 79\n",
            "INFO:__main__:Processing item 80\n",
            "INFO:__main__:Processing item 81\n",
            "INFO:__main__:Processing item 82\n",
            "INFO:__main__:Processing item 83\n",
            "INFO:__main__:Processing item 84\n",
            "INFO:__main__:Processing item 85\n",
            "INFO:__main__:Processing item 86\n",
            "INFO:__main__:Processing item 87\n",
            "INFO:__main__:Processing item 88\n",
            "INFO:__main__:Processing item 89\n",
            "INFO:__main__:Processing item 90\n",
            "INFO:__main__:Processing item 91\n",
            "INFO:__main__:Processing item 92\n",
            "INFO:__main__:Processing item 93\n",
            "INFO:__main__:Processing item 94\n",
            "INFO:__main__:Processing item 95\n",
            "INFO:__main__:Processing item 96\n",
            "INFO:__main__:Processing item 97\n",
            "INFO:__main__:Processing item 98\n",
            "INFO:__main__:Processing item 99\n",
            "INFO:__main__:Processing item 100\n",
            "INFO:__main__:Processing item 101\n",
            "INFO:__main__:Processing item 102\n",
            "INFO:__main__:Processing item 103\n",
            "INFO:__main__:Processing item 104\n",
            "INFO:__main__:Processing item 105\n",
            "INFO:__main__:Processing item 106\n",
            "INFO:__main__:Processing item 107\n",
            "INFO:__main__:Processing item 108\n",
            "INFO:__main__:Processing item 109\n",
            "INFO:__main__:Processing item 110\n",
            "INFO:__main__:Processing item 111\n",
            "INFO:__main__:Processing item 112\n",
            "INFO:__main__:Processing item 113\n",
            "INFO:__main__:Processing item 114\n",
            "INFO:__main__:Processing item 115\n",
            "INFO:__main__:Processing item 116\n",
            "INFO:__main__:Processing item 117\n",
            "INFO:__main__:Processing item 118\n",
            "INFO:__main__:Processing item 119\n",
            "INFO:__main__:Processing item 120\n",
            "INFO:__main__:Processing item 121\n",
            "INFO:__main__:Processing item 122\n",
            "INFO:__main__:Processing item 123\n",
            "INFO:__main__:Processing item 124\n",
            "INFO:__main__:Processing item 125\n",
            "INFO:__main__:Processing item 126\n",
            "INFO:__main__:Processing item 127\n",
            "INFO:__main__:Processing item 128\n",
            "INFO:__main__:Processing item 129\n",
            "INFO:__main__:Processing item 130\n",
            "INFO:__main__:Processing item 131\n",
            "INFO:__main__:Processing item 132\n",
            "INFO:__main__:Processing item 133\n",
            "INFO:__main__:Processing item 134\n",
            "INFO:__main__:Processing item 135\n",
            "INFO:__main__:Processing item 136\n",
            "INFO:__main__:Processing item 137\n",
            "INFO:__main__:Processing item 138\n",
            "INFO:__main__:Processing item 139\n",
            "INFO:__main__:Processing item 140\n",
            "INFO:__main__:Processing item 141\n",
            "INFO:__main__:Processing item 142\n",
            "INFO:__main__:Processing item 143\n",
            "INFO:__main__:Processing item 144\n",
            "INFO:__main__:Processing item 145\n",
            "INFO:__main__:Processing item 146\n",
            "INFO:__main__:Processing item 147\n",
            "INFO:__main__:Processing item 148\n",
            "INFO:__main__:Processing item 149\n",
            "INFO:__main__:Processing item 150\n",
            "INFO:__main__:Processing item 151\n",
            "INFO:__main__:Processing item 152\n",
            "INFO:__main__:Processing item 153\n",
            "INFO:__main__:Processing item 154\n",
            "INFO:__main__:Processing item 155\n",
            "INFO:__main__:Processing item 156\n",
            "INFO:__main__:Processing item 157\n",
            "INFO:__main__:Processing item 158\n",
            "INFO:__main__:Processing item 159\n",
            "INFO:__main__:Processing item 160\n",
            "INFO:__main__:Processing item 161\n",
            "INFO:__main__:Processing item 162\n",
            "INFO:__main__:Processing item 163\n",
            "INFO:__main__:Processing item 164\n",
            "INFO:__main__:Processing item 165\n",
            "INFO:__main__:Processing item 166\n",
            "INFO:__main__:Processing item 167\n",
            "INFO:__main__:Processing item 168\n",
            "INFO:__main__:Processing item 169\n",
            "INFO:__main__:Processing item 170\n",
            "INFO:__main__:Processing item 171\n",
            "INFO:__main__:Processing item 172\n",
            "INFO:__main__:Processing item 173\n",
            "INFO:__main__:Processing item 174\n",
            "INFO:__main__:Processing item 175\n",
            "INFO:__main__:Processing item 176\n",
            "INFO:__main__:Processing item 177\n",
            "INFO:__main__:Processing item 178\n",
            "INFO:__main__:Processing item 179\n",
            "INFO:__main__:Processing item 180\n",
            "INFO:__main__:Processing item 181\n",
            "INFO:__main__:Processing item 182\n",
            "INFO:__main__:Processing item 183\n",
            "INFO:__main__:Processing item 184\n",
            "INFO:__main__:Processing item 185\n",
            "INFO:__main__:Processing item 186\n",
            "INFO:__main__:Processing item 187\n",
            "INFO:__main__:Processing item 188\n",
            "INFO:__main__:Processing item 189\n",
            "INFO:__main__:Processing item 190\n",
            "INFO:__main__:Processing item 191\n",
            "INFO:__main__:Processing item 192\n",
            "INFO:__main__:Processing item 193\n",
            "INFO:__main__:Processing item 194\n",
            "INFO:__main__:Processing item 195\n",
            "INFO:__main__:Processing item 196\n",
            "INFO:__main__:Processing item 197\n",
            "INFO:__main__:Processing item 198\n",
            "INFO:__main__:Processing item 199\n",
            "INFO:__main__:Processing item 200\n",
            "INFO:__main__:Processing item 201\n",
            "INFO:__main__:Processing item 202\n",
            "INFO:__main__:Processing item 203\n",
            "INFO:__main__:Processing item 204\n",
            "INFO:__main__:Processing item 205\n",
            "INFO:__main__:Processing item 206\n",
            "INFO:__main__:Processing item 207\n",
            "INFO:__main__:Processing item 208\n",
            "INFO:__main__:Processing item 209\n",
            "INFO:__main__:Processing item 210\n",
            "INFO:__main__:Processing item 211\n",
            "INFO:__main__:Processing item 212\n",
            "INFO:__main__:Processing item 213\n",
            "INFO:__main__:Processing item 214\n",
            "INFO:__main__:Processing item 215\n",
            "INFO:__main__:Processing item 216\n",
            "INFO:__main__:Processing item 217\n",
            "INFO:__main__:Processing item 218\n",
            "INFO:__main__:Processing item 219\n",
            "INFO:__main__:Processing item 220\n",
            "INFO:__main__:Processing item 221\n",
            "INFO:__main__:Processing item 222\n",
            "INFO:__main__:Processing item 223\n",
            "INFO:__main__:Processing item 224\n",
            "INFO:__main__:Processing item 225\n",
            "INFO:__main__:Processing item 226\n",
            "INFO:__main__:Processing item 227\n",
            "INFO:__main__:Processing item 228\n",
            "INFO:__main__:Processing item 229\n",
            "INFO:__main__:Processing item 230\n",
            "INFO:__main__:Processing item 231\n",
            "INFO:__main__:Processing item 232\n",
            "INFO:__main__:Processing item 233\n",
            "INFO:__main__:Processing item 234\n",
            "INFO:__main__:Processing item 235\n",
            "INFO:__main__:Processing item 236\n",
            "INFO:__main__:Processing item 237\n",
            "INFO:__main__:Processing item 238\n",
            "INFO:__main__:Processing item 239\n",
            "INFO:__main__:Processing item 240\n",
            "INFO:__main__:Processing item 241\n",
            "INFO:__main__:Processing item 242\n",
            "INFO:__main__:Processing item 243\n",
            "INFO:__main__:Processing item 244\n",
            "INFO:__main__:Processing item 245\n",
            "INFO:__main__:Processing item 246\n",
            "INFO:__main__:Processing item 247\n",
            "INFO:__main__:Processing item 248\n",
            "INFO:__main__:Processing item 249\n",
            "INFO:__main__:Processing item 250\n",
            "INFO:__main__:Processing item 251\n",
            "INFO:__main__:Processing item 252\n",
            "INFO:__main__:Processing item 253\n",
            "INFO:__main__:Processing item 254\n",
            "INFO:__main__:Processing item 255\n",
            "INFO:__main__:Processing item 256\n",
            "INFO:__main__:Processing item 257\n",
            "INFO:__main__:Processing item 258\n",
            "INFO:__main__:Processing item 259\n",
            "INFO:__main__:Processing item 260\n",
            "INFO:__main__:Processing item 261\n",
            "INFO:__main__:Processing item 262\n",
            "INFO:__main__:Processing item 263\n",
            "INFO:__main__:Processing item 264\n",
            "INFO:__main__:Processing item 265\n",
            "INFO:__main__:Processing item 266\n",
            "INFO:__main__:Processing item 267\n",
            "INFO:__main__:Processing item 268\n",
            "INFO:__main__:Processing item 269\n",
            "INFO:__main__:Processing item 270\n",
            "INFO:__main__:Processing item 271\n",
            "INFO:__main__:Processing item 272\n",
            "INFO:__main__:Processing item 273\n",
            "INFO:__main__:Processing item 274\n",
            "INFO:__main__:Processing item 275\n",
            "INFO:__main__:Processing item 276\n",
            "INFO:__main__:Processing item 277\n",
            "INFO:__main__:Processing item 278\n",
            "INFO:__main__:Processing item 279\n",
            "INFO:__main__:Processing item 280\n",
            "INFO:__main__:Processing item 281\n",
            "INFO:__main__:Processing item 282\n",
            "INFO:__main__:Processing item 283\n",
            "INFO:__main__:Processing item 284\n",
            "INFO:__main__:Processing item 285\n",
            "INFO:__main__:Processing item 286\n",
            "INFO:__main__:Processing item 287\n",
            "INFO:__main__:Processing item 288\n",
            "INFO:__main__:Processing item 289\n",
            "INFO:__main__:Processing item 290\n",
            "INFO:__main__:Processing item 291\n",
            "INFO:__main__:Processing item 292\n",
            "INFO:__main__:Processing item 293\n",
            "INFO:__main__:Processing item 294\n",
            "INFO:__main__:Processing item 295\n",
            "INFO:__main__:Processing item 296\n",
            "INFO:__main__:Processing item 297\n",
            "INFO:__main__:Processing item 298\n",
            "INFO:__main__:Processing item 299\n",
            "INFO:__main__:Processing item 300\n",
            "INFO:__main__:Processing item 301\n",
            "INFO:__main__:Processing item 302\n",
            "INFO:__main__:Processing item 303\n",
            "INFO:__main__:Processing item 304\n",
            "INFO:__main__:Processing item 305\n",
            "INFO:__main__:Processing item 306\n",
            "INFO:__main__:Processing item 307\n",
            "INFO:__main__:Processing item 308\n",
            "INFO:__main__:Processing item 309\n",
            "INFO:__main__:Processing item 310\n",
            "INFO:__main__:Processing item 311\n",
            "INFO:__main__:Processing item 312\n",
            "INFO:__main__:Processing item 313\n",
            "INFO:__main__:Processing item 314\n",
            "INFO:__main__:Processing item 315\n",
            "INFO:__main__:Processing item 316\n",
            "INFO:__main__:Processing item 317\n",
            "INFO:__main__:Processing item 318\n",
            "INFO:__main__:Processing item 319\n",
            "INFO:__main__:Processing item 320\n",
            "INFO:__main__:Processing item 321\n",
            "INFO:__main__:Processing item 322\n",
            "INFO:__main__:Processing item 323\n",
            "INFO:__main__:Processing item 324\n",
            "INFO:__main__:Processing item 325\n",
            "INFO:__main__:Processing item 326\n",
            "INFO:__main__:Processing item 327\n",
            "INFO:__main__:Processing item 328\n",
            "INFO:__main__:Processing item 329\n",
            "INFO:__main__:Processing item 330\n",
            "INFO:__main__:Processing item 331\n",
            "INFO:__main__:Processing item 332\n",
            "INFO:__main__:Processing item 333\n",
            "INFO:__main__:Processing item 334\n",
            "INFO:__main__:Processing item 335\n",
            "INFO:__main__:Processing item 336\n",
            "INFO:__main__:Processing item 337\n",
            "INFO:__main__:Processing item 338\n",
            "INFO:__main__:Processing item 339\n",
            "INFO:__main__:Processing item 340\n",
            "INFO:__main__:Processing item 341\n",
            "INFO:__main__:Processing item 342\n",
            "INFO:__main__:Processing item 343\n",
            "INFO:__main__:Processing item 344\n",
            "INFO:__main__:Processing item 345\n",
            "INFO:__main__:Processing item 346\n",
            "INFO:__main__:Processing item 347\n",
            "INFO:__main__:Processing item 348\n",
            "INFO:__main__:Processing item 349\n",
            "INFO:__main__:Processing item 350\n",
            "INFO:__main__:Processing item 351\n",
            "INFO:__main__:Processing item 352\n",
            "INFO:__main__:Processing item 353\n",
            "INFO:__main__:Processing item 354\n",
            "INFO:__main__:Processing item 355\n",
            "INFO:__main__:Processing item 356\n",
            "INFO:__main__:Processing item 357\n",
            "INFO:__main__:Processing item 358\n",
            "INFO:__main__:Processing item 359\n",
            "INFO:__main__:Processing item 360\n",
            "INFO:__main__:Processing item 361\n",
            "INFO:__main__:Processing item 362\n",
            "INFO:__main__:Processing item 363\n",
            "INFO:__main__:Processing item 364\n",
            "INFO:__main__:Processing item 365\n",
            "INFO:__main__:Processing item 366\n",
            "INFO:__main__:Processing item 367\n",
            "INFO:__main__:Processing item 368\n",
            "INFO:__main__:Processing item 369\n",
            "INFO:__main__:Processing item 370\n",
            "INFO:__main__:Processing item 371\n",
            "INFO:__main__:Processing item 372\n",
            "INFO:__main__:Processing item 373\n",
            "INFO:__main__:Processing item 374\n",
            "INFO:__main__:Processing item 375\n",
            "INFO:__main__:Processing item 376\n",
            "INFO:__main__:Processing item 377\n",
            "INFO:__main__:Processing item 378\n",
            "INFO:__main__:Processing item 379\n",
            "INFO:__main__:Processing item 380\n",
            "INFO:__main__:Processing item 381\n",
            "INFO:__main__:Processing item 382\n",
            "INFO:__main__:Processing item 383\n",
            "INFO:__main__:Processing item 384\n",
            "INFO:__main__:Processing item 385\n",
            "INFO:__main__:Processing item 386\n",
            "INFO:__main__:Processing item 387\n",
            "INFO:__main__:Processing item 388\n",
            "INFO:__main__:Processing item 389\n",
            "INFO:__main__:Processing item 390\n",
            "INFO:__main__:Processing item 391\n",
            "INFO:__main__:Processing item 392\n",
            "INFO:__main__:Processing item 393\n",
            "INFO:__main__:Processing item 394\n",
            "INFO:__main__:Processing item 395\n",
            "INFO:__main__:Processing item 396\n",
            "INFO:__main__:Processing item 397\n",
            "INFO:__main__:Processing item 398\n",
            "INFO:__main__:Processing item 399\n",
            "INFO:__main__:Processing item 400\n",
            "INFO:__main__:Processing item 401\n",
            "INFO:__main__:Processing item 402\n",
            "INFO:__main__:Processing item 403\n",
            "INFO:__main__:Processing item 404\n",
            "INFO:__main__:Processing item 405\n",
            "INFO:__main__:Processing item 406\n",
            "INFO:__main__:Processing item 407\n",
            "INFO:__main__:Processing item 408\n",
            "INFO:__main__:Processing item 409\n",
            "INFO:__main__:Processing item 410\n",
            "INFO:__main__:Processing item 411\n",
            "INFO:__main__:Processing item 412\n",
            "INFO:__main__:Processing item 413\n",
            "INFO:__main__:Processing item 414\n",
            "INFO:__main__:Processing item 415\n",
            "INFO:__main__:Processing item 416\n",
            "INFO:__main__:Processing item 417\n",
            "INFO:__main__:Processing item 418\n",
            "INFO:__main__:Processing item 419\n",
            "INFO:__main__:Processing item 420\n",
            "INFO:__main__:Processing item 421\n",
            "INFO:__main__:Processing item 422\n",
            "INFO:__main__:Processing item 423\n",
            "INFO:__main__:Processing item 424\n",
            "INFO:__main__:Processing item 425\n",
            "INFO:__main__:Processing item 426\n",
            "INFO:__main__:Processing item 427\n",
            "INFO:__main__:Processing item 428\n",
            "INFO:__main__:Processing item 429\n",
            "INFO:__main__:Processing item 430\n",
            "INFO:__main__:Processing item 431\n",
            "INFO:__main__:Processing item 432\n",
            "INFO:__main__:Processing item 433\n",
            "INFO:__main__:Processing item 434\n",
            "INFO:__main__:Processing item 435\n",
            "INFO:__main__:Processing item 436\n",
            "INFO:__main__:Processing item 437\n",
            "INFO:__main__:Processing item 438\n",
            "INFO:__main__:Processing item 439\n",
            "INFO:__main__:Processing item 440\n",
            "INFO:__main__:Processing item 441\n",
            "INFO:__main__:Processing item 442\n",
            "INFO:__main__:Processing item 443\n",
            "INFO:__main__:Processing item 444\n",
            "INFO:__main__:Processing item 445\n",
            "INFO:__main__:Processing item 446\n",
            "INFO:__main__:Processing item 447\n",
            "INFO:__main__:Processing item 448\n",
            "INFO:__main__:Processing item 449\n",
            "INFO:__main__:Processing item 450\n",
            "INFO:__main__:Processing item 451\n",
            "INFO:__main__:Processing item 452\n",
            "INFO:__main__:Processing item 453\n",
            "INFO:__main__:Processing item 454\n",
            "INFO:__main__:Processing item 455\n",
            "INFO:__main__:Processing item 456\n",
            "INFO:__main__:Processing item 457\n",
            "INFO:__main__:Processing item 458\n",
            "INFO:__main__:Processing item 459\n",
            "INFO:__main__:Processing item 460\n",
            "INFO:__main__:Processing item 461\n",
            "INFO:__main__:Processing item 462\n",
            "INFO:__main__:Processing item 463\n",
            "INFO:__main__:Processing item 464\n",
            "INFO:__main__:Processing item 465\n",
            "INFO:__main__:Processing item 466\n",
            "INFO:__main__:Processing item 467\n",
            "INFO:__main__:Processing item 468\n",
            "INFO:__main__:Processing item 469\n",
            "INFO:__main__:Processing item 470\n",
            "INFO:__main__:Processing item 471\n",
            "INFO:__main__:Processing item 472\n",
            "INFO:__main__:Processing item 473\n",
            "INFO:__main__:Processing item 474\n",
            "INFO:__main__:Processing item 475\n",
            "INFO:__main__:Processing item 476\n",
            "INFO:__main__:Processing item 477\n",
            "INFO:__main__:Processing item 478\n",
            "INFO:__main__:Processing item 479\n",
            "INFO:__main__:Processing item 480\n",
            "INFO:__main__:Processing item 481\n",
            "INFO:__main__:Processing item 482\n",
            "INFO:__main__:Processing item 483\n",
            "INFO:__main__:Processing item 484\n",
            "INFO:__main__:Processing item 485\n",
            "INFO:__main__:Processing item 486\n",
            "INFO:__main__:Processing item 487\n",
            "INFO:__main__:Processing item 488\n",
            "INFO:__main__:Processing item 489\n",
            "INFO:__main__:Processing item 490\n",
            "INFO:__main__:Processing item 491\n",
            "INFO:__main__:Processing item 492\n",
            "INFO:__main__:Processing item 493\n",
            "INFO:__main__:Processing item 494\n",
            "INFO:__main__:Processing item 495\n",
            "INFO:__main__:Processing item 496\n",
            "INFO:__main__:Processing item 497\n",
            "INFO:__main__:Processing item 498\n",
            "INFO:__main__:Processing item 499\n",
            "INFO:__main__:Processing item 500\n",
            "INFO:__main__:Processing item 501\n",
            "INFO:__main__:Processing item 502\n",
            "INFO:__main__:Processing item 503\n",
            "INFO:__main__:Processing item 504\n",
            "INFO:__main__:Processing item 505\n",
            "INFO:__main__:Processing item 506\n",
            "INFO:__main__:Processing item 507\n",
            "INFO:__main__:Processing item 508\n",
            "INFO:__main__:Processing item 509\n",
            "INFO:__main__:Processing item 510\n",
            "INFO:__main__:Processing item 511\n",
            "INFO:__main__:Processing item 512\n",
            "INFO:__main__:Processing item 513\n",
            "INFO:__main__:Processing item 514\n",
            "INFO:__main__:Processing item 515\n",
            "INFO:__main__:Processing item 516\n",
            "INFO:__main__:Processing item 517\n",
            "INFO:__main__:Processing item 518\n",
            "INFO:__main__:Processing item 519\n",
            "INFO:__main__:Processing item 520\n",
            "INFO:__main__:Processing item 521\n",
            "INFO:__main__:Processing item 522\n",
            "INFO:__main__:Processing item 523\n",
            "INFO:__main__:Processing item 524\n",
            "INFO:__main__:Processing item 525\n",
            "INFO:__main__:Processing item 526\n",
            "INFO:__main__:Processing item 527\n",
            "INFO:__main__:Processing item 528\n",
            "INFO:__main__:Processing item 529\n",
            "INFO:__main__:Processing item 530\n",
            "INFO:__main__:Processing item 531\n",
            "INFO:__main__:Processing item 532\n",
            "INFO:__main__:Processing item 533\n",
            "INFO:__main__:Processing item 534\n",
            "INFO:__main__:Processing item 535\n",
            "INFO:__main__:Processing item 536\n",
            "INFO:__main__:Processing item 537\n",
            "INFO:__main__:Processing item 538\n",
            "INFO:__main__:Processing item 539\n",
            "INFO:__main__:Processing item 540\n",
            "INFO:__main__:Processing item 541\n",
            "INFO:__main__:Processing item 542\n",
            "INFO:__main__:Processing item 543\n",
            "INFO:__main__:Processing item 544\n",
            "INFO:__main__:Processing item 545\n",
            "INFO:__main__:Processing item 546\n",
            "INFO:__main__:Processing item 547\n",
            "INFO:__main__:Processing item 548\n",
            "INFO:__main__:Processing item 549\n",
            "INFO:__main__:Processing item 550\n",
            "INFO:__main__:Processing item 551\n",
            "INFO:__main__:Processing item 552\n",
            "INFO:__main__:Processing item 553\n",
            "INFO:__main__:Processing item 554\n",
            "INFO:__main__:Processing item 555\n",
            "INFO:__main__:Processing item 556\n",
            "INFO:__main__:Processing item 557\n",
            "INFO:__main__:Processing item 558\n",
            "INFO:__main__:Processing item 559\n",
            "INFO:__main__:Processing item 560\n",
            "INFO:__main__:Processing item 561\n",
            "INFO:__main__:Processing item 562\n",
            "INFO:__main__:Processing item 563\n",
            "INFO:__main__:Processing item 564\n",
            "INFO:__main__:Processing item 565\n",
            "INFO:__main__:Processing item 566\n",
            "INFO:__main__:Processing item 567\n",
            "INFO:__main__:Processing item 568\n",
            "INFO:__main__:Processing item 569\n",
            "INFO:__main__:Processing item 570\n",
            "INFO:__main__:Processing item 571\n",
            "INFO:__main__:Processing item 572\n",
            "INFO:__main__:Processing item 573\n",
            "INFO:__main__:Processing item 574\n",
            "INFO:__main__:Processing item 575\n",
            "INFO:__main__:Processing item 576\n",
            "INFO:__main__:Processing item 577\n",
            "INFO:__main__:Processing item 578\n",
            "INFO:__main__:Processing item 579\n",
            "INFO:__main__:Processing item 580\n",
            "INFO:__main__:Processing item 581\n",
            "INFO:__main__:Processing item 582\n",
            "INFO:__main__:Processing item 583\n",
            "INFO:__main__:Processing item 584\n",
            "INFO:__main__:Processing item 585\n",
            "INFO:__main__:Processing item 586\n",
            "INFO:__main__:Processing item 587\n",
            "INFO:__main__:Processing item 588\n",
            "INFO:__main__:Processing item 589\n",
            "INFO:__main__:Processing item 590\n",
            "INFO:__main__:Processing item 591\n",
            "INFO:__main__:Processing item 592\n",
            "INFO:__main__:Processing item 593\n",
            "INFO:__main__:Processing item 594\n",
            "INFO:__main__:Processing item 595\n",
            "INFO:__main__:Processing item 596\n",
            "INFO:__main__:Processing item 597\n",
            "INFO:__main__:Processing item 598\n",
            "INFO:__main__:Processing item 599\n",
            "INFO:__main__:Processing item 600\n",
            "INFO:__main__:Processing item 601\n",
            "INFO:__main__:Processing item 602\n",
            "INFO:__main__:Processing item 603\n",
            "INFO:__main__:Processing item 604\n",
            "INFO:__main__:Processing item 605\n",
            "INFO:__main__:Processing item 606\n",
            "INFO:__main__:Processing item 607\n",
            "INFO:__main__:Processing item 608\n",
            "INFO:__main__:Processing item 609\n",
            "INFO:__main__:Processing item 610\n",
            "INFO:__main__:Processing item 611\n",
            "INFO:__main__:Processing item 612\n",
            "INFO:__main__:Processing item 613\n",
            "INFO:__main__:Processing item 614\n",
            "INFO:__main__:Processing item 615\n",
            "INFO:__main__:Processing item 616\n",
            "INFO:__main__:Processing item 617\n",
            "INFO:__main__:Processing item 618\n",
            "INFO:__main__:Processing item 619\n",
            "INFO:__main__:Processing item 620\n",
            "INFO:__main__:Processing item 621\n",
            "INFO:__main__:Processing item 622\n",
            "INFO:__main__:Processing item 623\n",
            "INFO:__main__:Processing item 624\n",
            "INFO:__main__:Processing item 625\n",
            "INFO:__main__:Processing item 626\n",
            "INFO:__main__:Processing item 627\n",
            "INFO:__main__:Processing item 628\n",
            "INFO:__main__:Processing item 629\n",
            "INFO:__main__:Processing item 630\n",
            "INFO:__main__:Processing item 631\n",
            "INFO:__main__:Processing item 632\n",
            "INFO:__main__:Processing item 633\n",
            "INFO:__main__:Processing item 634\n",
            "INFO:__main__:Processing item 635\n",
            "INFO:__main__:Processing item 636\n",
            "INFO:__main__:Processing item 637\n",
            "INFO:__main__:Processing item 638\n",
            "INFO:__main__:Processing item 639\n",
            "INFO:__main__:Processing item 640\n",
            "INFO:__main__:Processing item 641\n",
            "INFO:__main__:Processing item 642\n",
            "INFO:__main__:Processing item 643\n",
            "INFO:__main__:Processing item 644\n",
            "INFO:__main__:Processing item 645\n",
            "INFO:__main__:Processing item 646\n",
            "INFO:__main__:Processing item 647\n",
            "INFO:__main__:Processing item 648\n",
            "INFO:__main__:Processing item 649\n",
            "INFO:__main__:Processing item 650\n",
            "INFO:__main__:Processing item 651\n",
            "INFO:__main__:Processing item 652\n",
            "INFO:__main__:Processing item 653\n",
            "INFO:__main__:Processing item 654\n",
            "INFO:__main__:Processing item 655\n",
            "INFO:__main__:Processing item 656\n",
            "INFO:__main__:Processing item 657\n",
            "INFO:__main__:Processing item 658\n",
            "INFO:__main__:Processing item 659\n",
            "INFO:__main__:Processing item 660\n",
            "INFO:__main__:Processing item 661\n",
            "INFO:__main__:Processing item 662\n",
            "INFO:__main__:Processing item 663\n",
            "INFO:__main__:Processing item 664\n",
            "INFO:__main__:Processing item 665\n",
            "INFO:__main__:Processing item 666\n",
            "INFO:__main__:Processing item 667\n",
            "INFO:__main__:Processing item 668\n",
            "INFO:__main__:Processing item 669\n",
            "INFO:__main__:Processing item 670\n",
            "INFO:__main__:Processing item 671\n",
            "INFO:__main__:Processing item 672\n",
            "INFO:__main__:Processing item 673\n",
            "INFO:__main__:Processing item 674\n",
            "INFO:__main__:Processing item 675\n",
            "INFO:__main__:Processing item 676\n",
            "INFO:__main__:Processing item 677\n",
            "INFO:__main__:Processing item 678\n",
            "INFO:__main__:Processing item 679\n",
            "INFO:__main__:Processing item 680\n",
            "INFO:__main__:Processing item 681\n",
            "INFO:__main__:Processing item 682\n",
            "INFO:__main__:Processing item 683\n",
            "INFO:__main__:Processing item 684\n",
            "INFO:__main__:Processing item 685\n",
            "INFO:__main__:Processing item 686\n",
            "INFO:__main__:Processing item 687\n",
            "INFO:__main__:Processing item 688\n",
            "INFO:__main__:Processing item 689\n",
            "INFO:__main__:Processing item 690\n",
            "INFO:__main__:Processing item 691\n",
            "INFO:__main__:Processing item 692\n",
            "INFO:__main__:Processing item 693\n",
            "INFO:__main__:Processing item 694\n",
            "INFO:__main__:Processing item 695\n",
            "INFO:__main__:Processing item 696\n",
            "INFO:__main__:Processing item 697\n",
            "INFO:__main__:Processing item 698\n",
            "INFO:__main__:Processing item 699\n",
            "INFO:__main__:Processing item 700\n",
            "INFO:__main__:Processing item 701\n",
            "INFO:__main__:Processing item 702\n",
            "INFO:__main__:Processing item 703\n",
            "INFO:__main__:Processing item 704\n",
            "INFO:__main__:Processing item 705\n",
            "INFO:__main__:Processing item 706\n",
            "INFO:__main__:Processing item 707\n",
            "INFO:__main__:Processing item 708\n",
            "INFO:__main__:Processing item 709\n",
            "INFO:__main__:Processing item 710\n",
            "INFO:__main__:Processing item 711\n",
            "INFO:__main__:Processing item 712\n",
            "INFO:__main__:Processing item 713\n",
            "INFO:__main__:Processing item 714\n",
            "INFO:__main__:Processing item 715\n",
            "INFO:__main__:Processing item 716\n",
            "INFO:__main__:Processing item 717\n",
            "INFO:__main__:Processing item 718\n",
            "INFO:__main__:Processing item 719\n",
            "INFO:__main__:Processing item 720\n",
            "INFO:__main__:Processing item 721\n",
            "INFO:__main__:Processing item 722\n",
            "INFO:__main__:Processing item 723\n",
            "INFO:__main__:Processing item 724\n",
            "INFO:__main__:Processing item 725\n",
            "INFO:__main__:Processing item 726\n",
            "INFO:__main__:Processing item 727\n",
            "INFO:__main__:Processing item 728\n",
            "INFO:__main__:Processing item 729\n",
            "INFO:__main__:Processing item 730\n",
            "INFO:__main__:Processing item 731\n",
            "INFO:__main__:Processing item 732\n",
            "INFO:__main__:Processing item 733\n",
            "INFO:__main__:Processing item 734\n",
            "INFO:__main__:Processing item 735\n",
            "INFO:__main__:Processing item 736\n",
            "INFO:__main__:Processing item 737\n",
            "INFO:__main__:Processing item 738\n",
            "INFO:__main__:Processing item 739\n",
            "INFO:__main__:Processing item 740\n",
            "INFO:__main__:Processing item 741\n",
            "INFO:__main__:Processing item 742\n",
            "INFO:__main__:Processing item 743\n",
            "INFO:__main__:Processing item 744\n",
            "INFO:__main__:Processing item 745\n",
            "INFO:__main__:Processing item 746\n",
            "INFO:__main__:Processing item 747\n",
            "INFO:__main__:Processing item 748\n",
            "INFO:__main__:Processing item 749\n",
            "INFO:__main__:Processing item 750\n",
            "INFO:__main__:Processing item 751\n",
            "INFO:__main__:Processing item 752\n",
            "INFO:__main__:Processing item 753\n",
            "INFO:__main__:Processing item 754\n",
            "INFO:__main__:Processing item 755\n",
            "INFO:__main__:Processing item 756\n",
            "INFO:__main__:Processing item 757\n",
            "INFO:__main__:Processing item 758\n",
            "INFO:__main__:Processing item 759\n",
            "INFO:__main__:Processing item 760\n",
            "INFO:__main__:Processing item 761\n",
            "INFO:__main__:Processing item 762\n",
            "INFO:__main__:Processing item 763\n",
            "INFO:__main__:Processing item 764\n",
            "INFO:__main__:Processing item 765\n",
            "INFO:__main__:Processing item 766\n",
            "INFO:__main__:Processing item 767\n",
            "INFO:__main__:Processing item 768\n",
            "INFO:__main__:Processing item 769\n",
            "INFO:__main__:Processing item 770\n",
            "INFO:__main__:Processing item 771\n",
            "INFO:__main__:Processing item 772\n",
            "INFO:__main__:Processing item 773\n",
            "INFO:__main__:Processing item 774\n",
            "INFO:__main__:Processing item 775\n",
            "INFO:__main__:Processing item 776\n",
            "INFO:__main__:Processing item 777\n",
            "INFO:__main__:Processing item 778\n",
            "INFO:__main__:Processing item 779\n",
            "INFO:__main__:Processing item 780\n",
            "INFO:__main__:Processing item 781\n",
            "INFO:__main__:Processing item 782\n",
            "INFO:__main__:Processing item 783\n",
            "INFO:__main__:Processing item 784\n",
            "INFO:__main__:Processing item 785\n",
            "INFO:__main__:Processing item 786\n",
            "INFO:__main__:Processing item 787\n",
            "INFO:__main__:Processing item 788\n",
            "INFO:__main__:Processing item 789\n",
            "INFO:__main__:Processing item 790\n",
            "INFO:__main__:Processing item 791\n",
            "INFO:__main__:Processing item 792\n",
            "INFO:__main__:Processing item 793\n",
            "INFO:__main__:Processing item 794\n",
            "INFO:__main__:Processing item 795\n",
            "INFO:__main__:Processing item 796\n",
            "INFO:__main__:Processing item 797\n",
            "INFO:__main__:Processing item 798\n",
            "INFO:__main__:Processing item 799\n",
            "INFO:__main__:Processing item 800\n",
            "INFO:__main__:Processing item 801\n",
            "INFO:__main__:Processing item 802\n",
            "INFO:__main__:Processing item 803\n",
            "INFO:__main__:Processing item 804\n",
            "INFO:__main__:Processing item 805\n",
            "INFO:__main__:Processing item 806\n",
            "INFO:__main__:Processing item 807\n",
            "INFO:__main__:Processing item 808\n",
            "INFO:__main__:Processing item 809\n",
            "INFO:__main__:Processing item 810\n",
            "INFO:__main__:Processing item 811\n",
            "INFO:__main__:Processing item 812\n",
            "INFO:__main__:Processing item 813\n",
            "INFO:__main__:Processing item 814\n",
            "INFO:__main__:Processing item 815\n",
            "INFO:__main__:Processing item 816\n",
            "INFO:__main__:Processing item 817\n",
            "INFO:__main__:Processing item 818\n",
            "INFO:__main__:Processing item 819\n",
            "INFO:__main__:Processing item 820\n",
            "INFO:__main__:Processing item 821\n",
            "INFO:__main__:Processing item 822\n",
            "INFO:__main__:Processing item 823\n",
            "INFO:__main__:Processing item 824\n",
            "INFO:__main__:Processing item 825\n",
            "INFO:__main__:Processing item 826\n",
            "INFO:__main__:Processing item 827\n",
            "INFO:__main__:Processing item 828\n",
            "INFO:__main__:Processing item 829\n",
            "INFO:__main__:Processing item 830\n",
            "INFO:__main__:Processing item 831\n",
            "INFO:__main__:Processing item 832\n",
            "INFO:__main__:Processing item 833\n",
            "INFO:__main__:Processing item 834\n",
            "INFO:__main__:Processing item 835\n",
            "INFO:__main__:Processing item 836\n",
            "INFO:__main__:Processing item 837\n",
            "INFO:__main__:Processing item 838\n",
            "INFO:__main__:Processing item 839\n",
            "INFO:__main__:Processing item 840\n",
            "INFO:__main__:Processing item 841\n",
            "INFO:__main__:Processing item 842\n",
            "INFO:__main__:Processing item 843\n",
            "INFO:__main__:Processing item 844\n",
            "INFO:__main__:Processing item 845\n",
            "INFO:__main__:Processing item 846\n",
            "INFO:__main__:Processing item 847\n",
            "INFO:__main__:Processing item 848\n",
            "INFO:__main__:Processing item 849\n",
            "INFO:__main__:Processing item 850\n",
            "INFO:__main__:Processing item 851\n",
            "INFO:__main__:Processing item 852\n",
            "INFO:__main__:Processing item 853\n",
            "INFO:__main__:Processing item 854\n",
            "INFO:__main__:Processing item 855\n",
            "INFO:__main__:Processing item 856\n",
            "INFO:__main__:Processing item 857\n",
            "INFO:__main__:Processing item 858\n",
            "INFO:__main__:Processing item 859\n",
            "INFO:__main__:Processing item 860\n",
            "INFO:__main__:Processing item 861\n",
            "INFO:__main__:Processing item 862\n",
            "INFO:__main__:Processing item 863\n",
            "INFO:__main__:Processing item 864\n",
            "INFO:__main__:Processing item 865\n",
            "INFO:__main__:Processing item 866\n",
            "INFO:__main__:Processing item 867\n",
            "INFO:__main__:Processing item 868\n",
            "INFO:__main__:Processing item 869\n",
            "INFO:__main__:Processing item 870\n",
            "INFO:__main__:Processing item 871\n",
            "INFO:__main__:Processing item 872\n",
            "INFO:__main__:Processing item 873\n",
            "INFO:__main__:Processing item 874\n",
            "INFO:__main__:Processing item 875\n",
            "INFO:__main__:Processing item 876\n",
            "INFO:__main__:Processing item 877\n",
            "INFO:__main__:Processing item 878\n",
            "INFO:__main__:Processing item 879\n",
            "INFO:__main__:Processing item 880\n",
            "INFO:__main__:Processing item 881\n",
            "INFO:__main__:Processing item 882\n",
            "INFO:__main__:Processing item 883\n",
            "INFO:__main__:Processing item 884\n",
            "INFO:__main__:Processing item 885\n",
            "INFO:__main__:Processing item 886\n",
            "INFO:__main__:Processing item 887\n",
            "INFO:__main__:Processing item 888\n",
            "INFO:__main__:Processing item 889\n",
            "INFO:__main__:Processing item 890\n",
            "INFO:__main__:Processing item 891\n",
            "INFO:__main__:Processing item 892\n",
            "INFO:__main__:Processing item 893\n",
            "INFO:__main__:Processing item 894\n",
            "INFO:__main__:Processing item 895\n",
            "INFO:__main__:Processing item 896\n",
            "INFO:__main__:Processing item 897\n",
            "INFO:__main__:Processing item 898\n",
            "INFO:__main__:Processing item 899\n",
            "INFO:__main__:Processing item 900\n",
            "INFO:__main__:Processing item 901\n",
            "INFO:__main__:Processing item 902\n",
            "INFO:__main__:Processing item 903\n",
            "INFO:__main__:Processing item 904\n",
            "INFO:__main__:Processing item 905\n",
            "INFO:__main__:Processing item 906\n",
            "INFO:__main__:Processing item 907\n",
            "INFO:__main__:Processing item 908\n",
            "INFO:__main__:Processing item 909\n",
            "INFO:__main__:Processing item 910\n",
            "INFO:__main__:Processing item 911\n",
            "INFO:__main__:Processing item 912\n",
            "INFO:__main__:Processing item 913\n",
            "INFO:__main__:Processing item 914\n",
            "INFO:__main__:Processing item 915\n",
            "INFO:__main__:Processing item 916\n",
            "INFO:__main__:Processing item 917\n",
            "INFO:__main__:Processing item 918\n",
            "INFO:__main__:Processing item 919\n",
            "INFO:__main__:Processing item 920\n",
            "INFO:__main__:Processing item 921\n",
            "INFO:__main__:Processing item 922\n",
            "INFO:__main__:Processing item 923\n",
            "INFO:__main__:Processing item 924\n",
            "INFO:__main__:Processing item 925\n",
            "INFO:__main__:Processing item 926\n",
            "INFO:__main__:Processing item 927\n",
            "INFO:__main__:Processing item 928\n",
            "INFO:__main__:Processing item 929\n",
            "INFO:__main__:Processing item 930\n",
            "INFO:__main__:Processing item 931\n",
            "INFO:__main__:Processing item 932\n",
            "INFO:__main__:Processing item 933\n",
            "INFO:__main__:Processing item 934\n",
            "INFO:__main__:Processing item 935\n",
            "INFO:__main__:Processing item 936\n",
            "INFO:__main__:Processing item 937\n",
            "INFO:__main__:Processing item 938\n",
            "INFO:__main__:Processing item 939\n",
            "INFO:__main__:Processing item 940\n",
            "INFO:__main__:Processing item 941\n",
            "INFO:__main__:Processing item 942\n",
            "INFO:__main__:Processing item 943\n",
            "INFO:__main__:Processing item 944\n",
            "INFO:__main__:Processing item 945\n",
            "INFO:__main__:Processing item 946\n",
            "INFO:__main__:Processing item 947\n",
            "INFO:__main__:Processing item 948\n",
            "INFO:__main__:Processing item 949\n",
            "INFO:__main__:Processing item 950\n",
            "INFO:__main__:Processing item 951\n",
            "INFO:__main__:Processing item 952\n",
            "INFO:__main__:Processing item 953\n",
            "INFO:__main__:Processing item 954\n",
            "INFO:__main__:Processing item 955\n",
            "INFO:__main__:Processing item 956\n",
            "INFO:__main__:Processing item 957\n",
            "INFO:__main__:Processing item 958\n",
            "INFO:__main__:Processing item 959\n",
            "INFO:__main__:Processing item 960\n",
            "INFO:__main__:Processing item 961\n",
            "INFO:__main__:Processing item 962\n",
            "INFO:__main__:Processing item 963\n",
            "INFO:__main__:Processing item 964\n",
            "INFO:__main__:Processing item 965\n",
            "INFO:__main__:Processing item 966\n",
            "INFO:__main__:Processing item 967\n",
            "INFO:__main__:Processing item 968\n",
            "INFO:__main__:Processing item 969\n",
            "INFO:__main__:Processing item 970\n",
            "INFO:__main__:Processing item 971\n",
            "INFO:__main__:Processing item 972\n",
            "INFO:__main__:Processing item 973\n",
            "INFO:__main__:Processing item 974\n",
            "INFO:__main__:Processing item 975\n",
            "INFO:__main__:Processing item 976\n",
            "INFO:__main__:Processing item 977\n",
            "INFO:__main__:Processing item 978\n",
            "INFO:__main__:Processing item 979\n",
            "INFO:__main__:Processing item 980\n",
            "INFO:__main__:Processing item 981\n",
            "INFO:__main__:Processing item 982\n",
            "INFO:__main__:Processing item 983\n",
            "INFO:__main__:Processing item 984\n",
            "INFO:__main__:Processing item 985\n",
            "INFO:__main__:Processing item 986\n",
            "INFO:__main__:Processing item 987\n",
            "INFO:__main__:Processing item 988\n",
            "INFO:__main__:Processing item 989\n",
            "INFO:__main__:Processing item 990\n",
            "INFO:__main__:Processing item 991\n",
            "INFO:__main__:Processing item 992\n",
            "INFO:__main__:Processing item 993\n",
            "INFO:__main__:Processing item 994\n",
            "INFO:__main__:Processing item 995\n",
            "INFO:__main__:Processing item 996\n",
            "INFO:__main__:Processing item 997\n",
            "INFO:__main__:Processing item 998\n",
            "INFO:__main__:Processing item 999\n",
            "ERROR:__main__:An error occurred.\n",
            "WARNING:__main__:A warning message.\n",
            "CRITICAL:__main__:A critical message.\n",
            "INFO:__main__:Application finished.\n"
          ]
        }
      ]
    },
    {
      "cell_type": "markdown",
      "source": [
        "# Q19. Write a program that handles both IndexError and KeyError using a try-except block."
      ],
      "metadata": {
        "id": "z0Nn8Yfhwc6d"
      }
    },
    {
      "cell_type": "code",
      "source": [
        "def access_data(data, key_or_index):\n",
        "    \"\"\"\n",
        "    Accesses data using a key (for dictionaries) or index (for lists/tuples).\n",
        "    Handles both KeyError and IndexError.\n",
        "\n",
        "    Args:\n",
        "        data: The data (dictionary, list, or tuple).\n",
        "        key_or_index: The key or index to access.\n",
        "    \"\"\"\n",
        "    try:\n",
        "        value = data[key_or_index]\n",
        "        print(f\"Value at {key_or_index}: {value}\")\n",
        "    except KeyError:\n",
        "        print(f\"Error: Key '{key_or_index}' not found in the dictionary.\")\n",
        "    except IndexError:\n",
        "        print(f\"Error: Index '{key_or_index}' out of range.\")\n",
        "    except TypeError:\n",
        "        print(\"Error: Data must be a dictionary, list, or tuple.\")\n",
        "    except Exception as e:\n",
        "        print(f\"An unexpected error occured: {e}\")\n",
        "\n",
        "my_dict = {\"name\": \"Alice\", \"age\": 30}\n",
        "my_list = [10, 20, 30]\n",
        "\n",
        "access_data(my_dict, \"age\")\n",
        "access_data(my_dict, \"job\")\n",
        "access_data(my_list, 1)\n",
        "access_data(my_list, 5)\n",
        "access_data(\"string\", 0)"
      ],
      "metadata": {
        "colab": {
          "base_uri": "https://localhost:8080/"
        },
        "id": "Pv3dOn6ywppm",
        "outputId": "8f592e4c-5379-4c11-d6be-9c3daec85aa9"
      },
      "execution_count": 20,
      "outputs": [
        {
          "output_type": "stream",
          "name": "stdout",
          "text": [
            "Value at age: 30\n",
            "Error: Key 'job' not found in the dictionary.\n",
            "Value at 1: 20\n",
            "Error: Index '5' out of range.\n",
            "Value at 0: s\n"
          ]
        }
      ]
    },
    {
      "cell_type": "markdown",
      "source": [
        "# **Q20. How would you open a file and read its contents using a context manager in Python?**"
      ],
      "metadata": {
        "id": "fIKnKZbtw1SZ"
      }
    },
    {
      "cell_type": "code",
      "source": [
        "def read_file_with_context_manager(filename):\n",
        "    \"\"\"\n",
        "    Opens a file using a context manager and reads its contents.\n",
        "\n",
        "    Args:\n",
        "        filename: The name of the file to read.\n",
        "\n",
        "    Returns:\n",
        "        The contents of the file as a string, or None if an error occurs.\n",
        "    \"\"\"\n",
        "    try:\n",
        "        with open(filename, 'r') as file:\n",
        "            contents = file.read()\n",
        "            return contents\n",
        "    except FileNotFoundError:\n",
        "        print(f\"Error: File '{filename}' not found.\")\n",
        "        return None\n",
        "    except Exception as e:\n",
        "        print(f\"An unexpected error occured: {e}\")\n",
        "        return None\n",
        "\n",
        "file_contents = read_file_with_context_manager(\"my_file.txt\")\n",
        "\n",
        "if file_contents is not None:\n",
        "    print(\"File contents:\")\n",
        "    print(file_contents)\n",
        "\n",
        "try:\n",
        "    with open(\"my_file.txt\", \"w\") as f:\n",
        "        f.write(\"This is a test file.\\nIt contains multiple lines.\")\n",
        "except Exception as e:\n",
        "    print(f\"Error creating test file: {e}\")"
      ],
      "metadata": {
        "colab": {
          "base_uri": "https://localhost:8080/"
        },
        "id": "cARy57Thw-jN",
        "outputId": "7e504b59-c1c7-46ec-f8cd-f5383dde731b"
      },
      "execution_count": 21,
      "outputs": [
        {
          "output_type": "stream",
          "name": "stdout",
          "text": [
            "File contents:\n",
            "Initial content.\n",
            "This is the appended data.\n",
            "Another line appended.\n",
            "\n"
          ]
        }
      ]
    },
    {
      "cell_type": "markdown",
      "source": [
        "# **Q21. Write a Python program that reads a file and prints the number of occurrences of a specific word.**"
      ],
      "metadata": {
        "id": "9SbuEuodxEc0"
      }
    },
    {
      "cell_type": "code",
      "source": [
        "def count_word_occurrences(filename, target_word):\n",
        "    \"\"\"\n",
        "    Reads a file and prints the number of occurrences of a specific word.\n",
        "\n",
        "    Args:\n",
        "        filename: The name of the file to read.\n",
        "        target_word: The word to count.\n",
        "    \"\"\"\n",
        "    try:\n",
        "        with open(filename, 'r') as file:\n",
        "            content = file.read().lower()\n",
        "            word_count = content.split().count(target_word.lower())\n",
        "            print(f\"The word '{target_word}' appears {word_count} times in '{filename}'.\")\n",
        "    except FileNotFoundError:\n",
        "        print(f\"Error: File '{filename}' not found.\")\n",
        "    except Exception as e:\n",
        "        print(f\"An unexpected error occurred: {e}\")\n",
        "\n",
        "filename = \"text.txt\"\n",
        "target_word = \"the\"\n",
        "\n",
        "try:\n",
        "    with open(filename, 'w') as f:\n",
        "        f.write(\"The quick brown fox jumps over the lazy dog. The dog is lazy.\\n\")\n",
        "        f.write(\"The fox is quick.\")\n",
        "except Exception as e:\n",
        "    print(f\"Error creating example file: {e}\")\n",
        "\n",
        "count_word_occurrences(filename, target_word)\n",
        "count_word_occurrences(filename, \"fox\")\n",
        "count_word_occurrences(filename, \"nonexistent\")\n",
        "count_word_occurrences(\"nonexistent_file.txt\", \"the\")"
      ],
      "metadata": {
        "colab": {
          "base_uri": "https://localhost:8080/"
        },
        "id": "-cFycWZdxKNd",
        "outputId": "636e8808-7bfc-4c1d-9007-63653c3f9807"
      },
      "execution_count": 22,
      "outputs": [
        {
          "output_type": "stream",
          "name": "stdout",
          "text": [
            "The word 'the' appears 4 times in 'text.txt'.\n",
            "The word 'fox' appears 2 times in 'text.txt'.\n",
            "The word 'nonexistent' appears 0 times in 'text.txt'.\n",
            "Error: File 'nonexistent_file.txt' not found.\n"
          ]
        }
      ]
    },
    {
      "cell_type": "markdown",
      "source": [
        "# **Q22. How can you check if a file is empty before attempting to read its contents?**"
      ],
      "metadata": {
        "id": "d0Ih6fODxJc1"
      }
    },
    {
      "cell_type": "code",
      "source": [
        "import os\n",
        "\n",
        "def check_and_read_file(filename):\n",
        "    \"\"\"\n",
        "    Checks if a file is empty before attempting to read its contents.\n",
        "\n",
        "    Args:\n",
        "        filename: The name of the file to check and read.\n",
        "    \"\"\"\n",
        "    if os.path.exists(filename):\n",
        "        if os.path.getsize(filename) == 0:\n",
        "            print(f\"File '{filename}' is empty.\")\n",
        "        else:\n",
        "            try:\n",
        "                with open(filename, 'r') as file:\n",
        "                    contents = file.read()\n",
        "                    print(f\"Contents of '{filename}':\\n{contents}\")\n",
        "            except Exception as e:\n",
        "                print(f\"An error occurred while reading '{filename}': {e}\")\n",
        "    else:\n",
        "        print(f\"Error: File '{filename}' does not exist.\")\n",
        "\n",
        "try:\n",
        "    with open(\"empty_file.txt\", \"w\") as empty_file:\n",
        "        pass\n",
        "except Exception as e:\n",
        "    print(f\"Error creating empty file: {e}\")\n",
        "\n",
        "try:\n",
        "    with open(\"non_empty_file.txt\", \"w\") as non_empty_file:\n",
        "        non_empty_file.write(\"This file has some content.\")\n",
        "except Exception as e:\n",
        "    print(f\"Error creating non-empty file: {e}\")\n",
        "\n",
        "check_and_read_file(\"empty_file.txt\")\n",
        "check_and_read_file(\"non_empty_file.txt\")\n",
        "check_and_read_file(\"nonexistent_file.txt\")"
      ],
      "metadata": {
        "colab": {
          "base_uri": "https://localhost:8080/"
        },
        "id": "o9WY1kcrxkkf",
        "outputId": "d9de51b1-5f0f-4217-a025-18aa4e8f2430"
      },
      "execution_count": 23,
      "outputs": [
        {
          "output_type": "stream",
          "name": "stdout",
          "text": [
            "File 'empty_file.txt' is empty.\n",
            "Contents of 'non_empty_file.txt':\n",
            "This file has some content.\n",
            "Error: File 'nonexistent_file.txt' does not exist.\n"
          ]
        }
      ]
    },
    {
      "cell_type": "markdown",
      "source": [
        "# **Q23. Write a Python program that writes to a log file when an error occurs during file handling.**"
      ],
      "metadata": {
        "id": "T1BVmjf2xtPU"
      }
    },
    {
      "cell_type": "code",
      "source": [
        "import logging\n",
        "\n",
        "def process_file(filename):\n",
        "    \"\"\"\n",
        "    Processes a file and logs errors if they occur.\n",
        "\n",
        "    Args:\n",
        "        filename: The name of the file to process.\n",
        "    \"\"\"\n",
        "    logging.basicConfig(filename=\"file_handling_errors.log\", level=logging.ERROR,\n",
        "                        format='%(asctime)s - %(levelname)s - %(message)s')\n",
        "\n",
        "    try:\n",
        "        with open(filename, 'r') as file:\n",
        "            content = file.read()\n",
        "            int(content)\n",
        "            print(content)\n",
        "\n",
        "    except FileNotFoundError:\n",
        "        logging.error(f\"File '{filename}' not found.\")\n",
        "        print(f\"Error: File '{filename}' not found. Check the log file for details.\")\n",
        "    except ValueError:\n",
        "        logging.error(f\"Invalid file content in '{filename}'.\")\n",
        "        print(f\"Error: Invalid file content in '{filename}'. Check the log file for details.\")\n",
        "    except Exception as e:\n",
        "        logging.error(f\"An unexpected error occurred while processing '{filename}': {e}\")\n",
        "        print(f\"An unexpected error occurred: {e}. Check the log file for details.\")\n",
        "\n",
        "try:\n",
        "    with open(\"my_file.txt\", \"w\") as f:\n",
        "        f.write(\"This is some text.\")\n",
        "except Exception as e:\n",
        "    print(f\"Error creating example file: {e}\")\n",
        "\n",
        "process_file(\"my_file.txt\")\n",
        "process_file(\"nonexistent_file.txt\")"
      ],
      "metadata": {
        "colab": {
          "base_uri": "https://localhost:8080/"
        },
        "id": "hFuVT14yx7KM",
        "outputId": "5c6bfd23-3fd4-4823-825e-adb346b020da"
      },
      "execution_count": 24,
      "outputs": [
        {
          "output_type": "stream",
          "name": "stderr",
          "text": [
            "ERROR:root:Invalid file content in 'my_file.txt'.\n",
            "ERROR:root:File 'nonexistent_file.txt' not found.\n"
          ]
        },
        {
          "output_type": "stream",
          "name": "stdout",
          "text": [
            "Error: Invalid file content in 'my_file.txt'. Check the log file for details.\n",
            "Error: File 'nonexistent_file.txt' not found. Check the log file for details.\n"
          ]
        }
      ]
    }
  ]
}